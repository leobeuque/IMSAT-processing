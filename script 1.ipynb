{
 "cells": [
  {
   "cell_type": "code",
   "execution_count": 9,
   "id": "robust-mobile",
   "metadata": {},
   "outputs": [],
   "source": [
    "#imports\n",
    "\n",
    "import numpy as np\n",
    "import pandas as pd\n",
    "from geopy.geocoders import Nominatim\n",
    "import geojson\n",
    "from shapely import geometry\n",
    "from sentinelsat import SentinelAPI\n",
    "from datetime import date\n",
    "import utm\n",
    "from ipyleaflet import Map, Marker, basemaps, basemap_to_tiles\n",
    "from ipyleaflet import Polygon as ipylPolygon"
   ]
  },
  {
   "cell_type": "code",
   "execution_count": 10,
   "id": "decent-option",
   "metadata": {},
   "outputs": [],
   "source": [
    "def commandline_simulator(switch, place_name, dir_address, date_range, cloudness, uuid = ''):\n",
    "#date_range = ('AAAAMMDD', 'AAAAMMDD') (ex: ('20210501', '20210531'))\n",
    "#place_name = (country,city)\n",
    "#cloudcoverpercentage=(0, cloudness)\n",
    "\n",
    "    address={'country':place_name[0],'city':place_name[1]}  # my cities\n",
    "    geolocator = Nominatim(user_agent=\"Pio\")\n",
    "    location = geolocator.geocode(address) #getting latitude and longitude (geographic coordinates)\n",
    "    \n",
    "    #converting to utm projection\n",
    "    \n",
    "    x,y, zone, zoneLetter = utm.from_latlon(location.latitude, location.longitude) \n",
    "    x = round(x,2)\n",
    "    y = round(y,2) #getting the first 2 decimals\n",
    "    (xoffset,yoffset) = (15000,15000)\n",
    "    \n",
    "    upl = (x-xoffset, y+yoffset) # upper left\n",
    "    upr = (x+xoffset, y+yoffset) # upper right\n",
    "    dwr = (x+xoffset, y-yoffset) # down right\n",
    "    dwl = (x-xoffset, y-yoffset) # down left\n",
    "    \n",
    "    utmCoord = [upl,upr,dwr,dwl]\n",
    "    \n",
    "    #converting back to geographic coordinates\n",
    "    \n",
    "    geoCoord = []\n",
    "    for p in utmCoord:\n",
    "        lat, lon = utm.to_latlon(*p,zone,zoneLetter)\n",
    "        geoCoord.append([round(lon,7),round(lat,7)])\n",
    "    \n",
    "    #creation of the polygon\n",
    "\n",
    "    geoPolygon = geometry.asPolygon(geoCoord)\n",
    "    geoPolygon.to_wkt()\n",
    "    \n",
    "    #getting the api    \n",
    "    \n",
    "    api = SentinelAPI('leo_beuque', 'Rbcekouya12', 'https://scihub.copernicus.eu/dhus')\n",
    "    products = api.query(geoPolygon,\n",
    "                     date=date_range,\n",
    "                     platformname='Sentinel-2',\n",
    "                     cloudcoverpercentage=(0, min(2*cloudness,100)))\n",
    "    # conversion to pd.dataframe\n",
    "    \n",
    "    df = pd.DataFrame(products).T\n",
    "    \n",
    "    #choosing the uuid with best fitting cloudness\n",
    "    \n",
    "    if uuid == '':\n",
    "        \n",
    "        best_cloudness_diff = min(abs(df.cloudcoverpercentage-cloudness))\n",
    "        idx = abs(df.cloudcoverpercentage-cloudness) == best_cloudness_diff #we get the image with cloudcoverpercentage nearest to cloudness\n",
    "        new_uuid = df.uuid.loc[idx][0]\n",
    "    else:\n",
    "        new_uuid = uuid\n",
    "    \n",
    "    if switch:\n",
    "        #download image\n",
    "        api.download(new_uuid, dir_address)\n",
    "        return\n",
    "    \n",
    "    else:\n",
    "        #print information \n",
    "        print ('title:', df.title.loc[idx][0])\n",
    "        print ('\\nlink:',df.link[idx][0])\n",
    "        print ('\\ncloudcoverpercentage:',df.cloudcoverpercentage[idx][0])\n",
    "        return\n",
    "    \n",
    "    "
   ]
  },
  {
   "cell_type": "code",
   "execution_count": 12,
   "id": "offshore-sender",
   "metadata": {},
   "outputs": [
    {
     "data": {
      "application/vnd.jupyter.widget-view+json": {
       "model_id": "fd6410f75d794ef9b31281ae7f790909",
       "version_major": 2,
       "version_minor": 0
      },
      "text/plain": [
       "Downloading:   0%|          | 0.00/1.18G [00:00<?, ?B/s]"
      ]
     },
     "metadata": {},
     "output_type": "display_data"
    },
    {
     "ename": "ServerError",
     "evalue": "HTTP status 500 Internal Server Error: HttpResponseException : command: POST https://most.onda-dias.eu/v3/auth/tokens HTTP/1.1 failed with response: HTTP/1.1 429 Too Many Requests; content: []",
     "output_type": "error",
     "traceback": [
      "\u001b[1;31m---------------------------------------------------------------------------\u001b[0m",
      "\u001b[1;31mHTTPError\u001b[0m                                 Traceback (most recent call last)",
      "\u001b[1;32mD:\\anaconda3\\envs\\lab2\\lib\\site-packages\\sentinelsat\\sentinel.py\u001b[0m in \u001b[0;36m_check_scihub_response\u001b[1;34m(response, test_json, query_string)\u001b[0m\n\u001b[0;32m   1432\u001b[0m     \u001b[1;32mtry\u001b[0m\u001b[1;33m:\u001b[0m\u001b[1;33m\u001b[0m\u001b[1;33m\u001b[0m\u001b[0m\n\u001b[1;32m-> 1433\u001b[1;33m         \u001b[0mresponse\u001b[0m\u001b[1;33m.\u001b[0m\u001b[0mraise_for_status\u001b[0m\u001b[1;33m(\u001b[0m\u001b[1;33m)\u001b[0m\u001b[1;33m\u001b[0m\u001b[1;33m\u001b[0m\u001b[0m\n\u001b[0m\u001b[0;32m   1434\u001b[0m         \u001b[1;32mif\u001b[0m \u001b[0mtest_json\u001b[0m\u001b[1;33m:\u001b[0m\u001b[1;33m\u001b[0m\u001b[1;33m\u001b[0m\u001b[0m\n",
      "\u001b[1;32mD:\\anaconda3\\envs\\lab2\\lib\\site-packages\\requests\\models.py\u001b[0m in \u001b[0;36mraise_for_status\u001b[1;34m(self)\u001b[0m\n\u001b[0;32m    942\u001b[0m         \u001b[1;32mif\u001b[0m \u001b[0mhttp_error_msg\u001b[0m\u001b[1;33m:\u001b[0m\u001b[1;33m\u001b[0m\u001b[1;33m\u001b[0m\u001b[0m\n\u001b[1;32m--> 943\u001b[1;33m             \u001b[1;32mraise\u001b[0m \u001b[0mHTTPError\u001b[0m\u001b[1;33m(\u001b[0m\u001b[0mhttp_error_msg\u001b[0m\u001b[1;33m,\u001b[0m \u001b[0mresponse\u001b[0m\u001b[1;33m=\u001b[0m\u001b[0mself\u001b[0m\u001b[1;33m)\u001b[0m\u001b[1;33m\u001b[0m\u001b[1;33m\u001b[0m\u001b[0m\n\u001b[0m\u001b[0;32m    944\u001b[0m \u001b[1;33m\u001b[0m\u001b[0m\n",
      "\u001b[1;31mHTTPError\u001b[0m: 500 Server Error: Internal Server Error for url: https://scihub.copernicus.eu/dhus/odata/v1/Products('8fd326bf-b0fa-48c1-ad9f-1e7b1e71e1c3')/$value",
      "\nDuring handling of the above exception, another exception occurred:\n",
      "\u001b[1;31mServerError\u001b[0m                               Traceback (most recent call last)",
      "\u001b[1;32m<ipython-input-12-38d2b4141d19>\u001b[0m in \u001b[0;36m<module>\u001b[1;34m\u001b[0m\n\u001b[1;32m----> 1\u001b[1;33m \u001b[0mcommandline_simulator\u001b[0m\u001b[1;33m(\u001b[0m\u001b[1;32mTrue\u001b[0m\u001b[1;33m,\u001b[0m\u001b[1;33m(\u001b[0m\u001b[1;34m'France'\u001b[0m\u001b[1;33m,\u001b[0m\u001b[1;34m'Paris'\u001b[0m\u001b[1;33m)\u001b[0m\u001b[1;33m,\u001b[0m\u001b[1;34m'downloaded_images'\u001b[0m\u001b[1;33m,\u001b[0m\u001b[1;33m(\u001b[0m\u001b[1;34m'20210601'\u001b[0m\u001b[1;33m,\u001b[0m \u001b[1;34m'20210630'\u001b[0m\u001b[1;33m)\u001b[0m\u001b[1;33m,\u001b[0m\u001b[1;36m15\u001b[0m\u001b[1;33m,\u001b[0m\u001b[1;34m''\u001b[0m\u001b[1;33m)\u001b[0m\u001b[1;33m\u001b[0m\u001b[1;33m\u001b[0m\u001b[0m\n\u001b[0m",
      "\u001b[1;32m<ipython-input-10-d786b3ccbb5d>\u001b[0m in \u001b[0;36mcommandline_simulator\u001b[1;34m(switch, place_name, dir_address, date_range, cloudness, uuid)\u001b[0m\n\u001b[0;32m     57\u001b[0m     \u001b[1;32mif\u001b[0m \u001b[0mswitch\u001b[0m\u001b[1;33m:\u001b[0m\u001b[1;33m\u001b[0m\u001b[1;33m\u001b[0m\u001b[0m\n\u001b[0;32m     58\u001b[0m         \u001b[1;31m#download image\u001b[0m\u001b[1;33m\u001b[0m\u001b[1;33m\u001b[0m\u001b[1;33m\u001b[0m\u001b[0m\n\u001b[1;32m---> 59\u001b[1;33m         \u001b[0mapi\u001b[0m\u001b[1;33m.\u001b[0m\u001b[0mdownload\u001b[0m\u001b[1;33m(\u001b[0m\u001b[0mnew_uuid\u001b[0m\u001b[1;33m,\u001b[0m \u001b[0mdir_address\u001b[0m\u001b[1;33m)\u001b[0m\u001b[1;33m\u001b[0m\u001b[1;33m\u001b[0m\u001b[0m\n\u001b[0m\u001b[0;32m     60\u001b[0m         \u001b[1;32mreturn\u001b[0m\u001b[1;33m\u001b[0m\u001b[1;33m\u001b[0m\u001b[0m\n\u001b[0;32m     61\u001b[0m \u001b[1;33m\u001b[0m\u001b[0m\n",
      "\u001b[1;32mD:\\anaconda3\\envs\\lab2\\lib\\site-packages\\sentinelsat\\sentinel.py\u001b[0m in \u001b[0;36mdownload\u001b[1;34m(self, id, directory_path, checksum, **kwargs)\u001b[0m\n\u001b[0;32m    525\u001b[0m             \u001b[1;32mraise\u001b[0m \u001b[0mLTATriggered\u001b[0m\u001b[1;33m(\u001b[0m\u001b[0mid\u001b[0m\u001b[1;33m)\u001b[0m\u001b[1;33m\u001b[0m\u001b[1;33m\u001b[0m\u001b[0m\n\u001b[0;32m    526\u001b[0m \u001b[1;33m\u001b[0m\u001b[0m\n\u001b[1;32m--> 527\u001b[1;33m         \u001b[0mself\u001b[0m\u001b[1;33m.\u001b[0m\u001b[0m_download_outer\u001b[0m\u001b[1;33m(\u001b[0m\u001b[0mproduct_info\u001b[0m\u001b[1;33m,\u001b[0m \u001b[0mpath\u001b[0m\u001b[1;33m,\u001b[0m \u001b[0mchecksum\u001b[0m\u001b[1;33m)\u001b[0m\u001b[1;33m\u001b[0m\u001b[1;33m\u001b[0m\u001b[0m\n\u001b[0m\u001b[0;32m    528\u001b[0m         \u001b[1;32mreturn\u001b[0m \u001b[0mproduct_info\u001b[0m\u001b[1;33m\u001b[0m\u001b[1;33m\u001b[0m\u001b[0m\n\u001b[0;32m    529\u001b[0m \u001b[1;33m\u001b[0m\u001b[0m\n",
      "\u001b[1;32mD:\\anaconda3\\envs\\lab2\\lib\\site-packages\\sentinelsat\\sentinel.py\u001b[0m in \u001b[0;36m_download_outer\u001b[1;34m(self, product_info, path, verify_checksum)\u001b[0m\n\u001b[0;32m    564\u001b[0m             \u001b[0mtemp_path\u001b[0m\u001b[1;33m.\u001b[0m\u001b[0mparent\u001b[0m\u001b[1;33m.\u001b[0m\u001b[0mmkdir\u001b[0m\u001b[1;33m(\u001b[0m\u001b[0mparents\u001b[0m\u001b[1;33m=\u001b[0m\u001b[1;32mTrue\u001b[0m\u001b[1;33m,\u001b[0m \u001b[0mexist_ok\u001b[0m\u001b[1;33m=\u001b[0m\u001b[1;32mTrue\u001b[0m\u001b[1;33m)\u001b[0m\u001b[1;33m\u001b[0m\u001b[1;33m\u001b[0m\u001b[0m\n\u001b[0;32m    565\u001b[0m             product_info[\"downloaded_bytes\"] = self._download(\n\u001b[1;32m--> 566\u001b[1;33m                 \u001b[0mproduct_info\u001b[0m\u001b[1;33m[\u001b[0m\u001b[1;34m\"url\"\u001b[0m\u001b[1;33m]\u001b[0m\u001b[1;33m,\u001b[0m \u001b[0mtemp_path\u001b[0m\u001b[1;33m,\u001b[0m \u001b[0mproduct_info\u001b[0m\u001b[1;33m[\u001b[0m\u001b[1;34m\"size\"\u001b[0m\u001b[1;33m]\u001b[0m\u001b[1;33m\u001b[0m\u001b[1;33m\u001b[0m\u001b[0m\n\u001b[0m\u001b[0;32m    567\u001b[0m             )\n\u001b[0;32m    568\u001b[0m         \u001b[1;31m# Check integrity with MD5 checksum\u001b[0m\u001b[1;33m\u001b[0m\u001b[1;33m\u001b[0m\u001b[1;33m\u001b[0m\u001b[0m\n",
      "\u001b[1;32mD:\\anaconda3\\envs\\lab2\\lib\\site-packages\\sentinelsat\\sentinel.py\u001b[0m in \u001b[0;36m_download\u001b[1;34m(self, url, path, file_size)\u001b[0m\n\u001b[0;32m   1194\u001b[0m             \u001b[0minitial\u001b[0m\u001b[1;33m=\u001b[0m\u001b[0malready_downloaded_bytes\u001b[0m\u001b[1;33m,\u001b[0m\u001b[1;33m\u001b[0m\u001b[1;33m\u001b[0m\u001b[0m\n\u001b[0;32m   1195\u001b[0m         ) as progress:\n\u001b[1;32m-> 1196\u001b[1;33m             \u001b[0m_check_scihub_response\u001b[0m\u001b[1;33m(\u001b[0m\u001b[0mr\u001b[0m\u001b[1;33m,\u001b[0m \u001b[0mtest_json\u001b[0m\u001b[1;33m=\u001b[0m\u001b[1;32mFalse\u001b[0m\u001b[1;33m)\u001b[0m\u001b[1;33m\u001b[0m\u001b[1;33m\u001b[0m\u001b[0m\n\u001b[0m\u001b[0;32m   1197\u001b[0m             \u001b[0mchunk_size\u001b[0m \u001b[1;33m=\u001b[0m \u001b[1;36m2\u001b[0m \u001b[1;33m**\u001b[0m \u001b[1;36m20\u001b[0m  \u001b[1;31m# download in 1 MB chunks\u001b[0m\u001b[1;33m\u001b[0m\u001b[1;33m\u001b[0m\u001b[0m\n\u001b[0;32m   1198\u001b[0m             \u001b[0mmode\u001b[0m \u001b[1;33m=\u001b[0m \u001b[1;34m\"ab\"\u001b[0m \u001b[1;32mif\u001b[0m \u001b[0mcontinuing\u001b[0m \u001b[1;32melse\u001b[0m \u001b[1;34m\"wb\"\u001b[0m\u001b[1;33m\u001b[0m\u001b[1;33m\u001b[0m\u001b[0m\n",
      "\u001b[1;32mD:\\anaconda3\\envs\\lab2\\lib\\site-packages\\sentinelsat\\sentinel.py\u001b[0m in \u001b[0;36m_check_scihub_response\u001b[1;34m(response, test_json, query_string)\u001b[0m\n\u001b[0;32m   1477\u001b[0m         \u001b[1;32melif\u001b[0m \u001b[1;36m500\u001b[0m \u001b[1;33m<=\u001b[0m \u001b[0mresponse\u001b[0m\u001b[1;33m.\u001b[0m\u001b[0mstatus_code\u001b[0m \u001b[1;33m<\u001b[0m \u001b[1;36m600\u001b[0m \u001b[1;32mor\u001b[0m \u001b[0mmsg\u001b[0m\u001b[1;33m:\u001b[0m\u001b[1;33m\u001b[0m\u001b[1;33m\u001b[0m\u001b[0m\n\u001b[0;32m   1478\u001b[0m             \u001b[1;31m# 5xx: Server Error\u001b[0m\u001b[1;33m\u001b[0m\u001b[1;33m\u001b[0m\u001b[1;33m\u001b[0m\u001b[0m\n\u001b[1;32m-> 1479\u001b[1;33m             \u001b[1;32mraise\u001b[0m \u001b[0mServerError\u001b[0m\u001b[1;33m(\u001b[0m\u001b[0mmsg\u001b[0m\u001b[1;33m,\u001b[0m \u001b[0mresponse\u001b[0m\u001b[1;33m)\u001b[0m\u001b[1;33m\u001b[0m\u001b[1;33m\u001b[0m\u001b[0m\n\u001b[0m\u001b[0;32m   1480\u001b[0m         \u001b[1;32melse\u001b[0m\u001b[1;33m:\u001b[0m\u001b[1;33m\u001b[0m\u001b[1;33m\u001b[0m\u001b[0m\n\u001b[0;32m   1481\u001b[0m             \u001b[1;32mraise\u001b[0m \u001b[0mSentinelAPIError\u001b[0m\u001b[1;33m(\u001b[0m\u001b[0mmsg\u001b[0m\u001b[1;33m,\u001b[0m \u001b[0mresponse\u001b[0m\u001b[1;33m)\u001b[0m\u001b[1;33m\u001b[0m\u001b[1;33m\u001b[0m\u001b[0m\n",
      "\u001b[1;31mServerError\u001b[0m: HTTP status 500 Internal Server Error: HttpResponseException : command: POST https://most.onda-dias.eu/v3/auth/tokens HTTP/1.1 failed with response: HTTP/1.1 429 Too Many Requests; content: []"
     ]
    }
   ],
   "source": [
    "commandline_simulator(True,('France','Paris'),'downloaded_images',('20210601', '20210630'),15,'')"
   ]
  },
  {
   "cell_type": "code",
   "execution_count": null,
   "id": "romantic-leader",
   "metadata": {},
   "outputs": [],
   "source": []
  }
 ],
 "metadata": {
  "kernelspec": {
   "display_name": "Python [conda env:lab2]",
   "language": "python",
   "name": "conda-env-lab2-py"
  },
  "language_info": {
   "codemirror_mode": {
    "name": "ipython",
    "version": 3
   },
   "file_extension": ".py",
   "mimetype": "text/x-python",
   "name": "python",
   "nbconvert_exporter": "python",
   "pygments_lexer": "ipython3",
   "version": "3.7.10"
  }
 },
 "nbformat": 4,
 "nbformat_minor": 5
}
