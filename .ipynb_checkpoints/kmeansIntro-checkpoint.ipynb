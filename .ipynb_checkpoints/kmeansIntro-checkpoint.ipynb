{
 "cells": [
  {
   "cell_type": "code",
   "execution_count": 1,
   "metadata": {
    "tags": [
     "imp"
    ]
   },
   "outputs": [],
   "source": [
    "import numpy as np\n",
    "import pandas as pd\n",
    "from matplotlib import pyplot as plt\n",
    "from PIL import Image\n",
    "from pathlib import Path\n",
    "import sys"
   ]
  },
  {
   "cell_type": "markdown",
   "metadata": {},
   "source": [
    "# `k-means` algorithm \n",
    "Aim:\n",
    "  >- create a module containing functions for grouping data\n",
    "  >- program the `k-means` algorithm from scratch\n",
    "  >- write functions to prepare data from multi-channel images for processing \n",
    "  \n",
    "  \n",
    "## About the algorithm \n",
    "\n",
    ">- algorithm for unsupervised data clustering (grouping)\n",
    ">- divides data into groups (clusters)\n",
    ">- the point belongs to the cluster to which it is closest, i.e. the distance to the centre of the cluster is the smallest\n",
    ">- the centers of the groups are called centroids \n",
    "\n",
    "\n",
    "The algorithm works iteratively until a given condition is met, e.g:\n",
    ">- the number of iterations will be equal to the given (given when starting the algorithm) \n",
    ">- centroids do not change their position\n",
    ">- points do not change their cluster\n",
    "\n",
    "---\n",
    "\n",
    "## The calculation process:\n",
    "\n",
    "2. Initiation of the initial centroid:\n",
    "There are different methods of initializing centroids, e.g .: \n",
    "   - random generation\n",
    "   - random selection from data   \n",
    "   - `k-maens++` algorithm (maximising the distance between centroids)\n",
    "   \n",
    "\n",
    "3. Calculating the distance of each pixel from each centroid:\n",
    "  - selecting the shortest distance for each pixel\n",
    "  - pixel assignment to a centroid class   \n",
    "\n",
    "\n",
    "4. Determine new centroid coordinates:\n",
    "  - average position values of points in the classes.  \n",
    "\n",
    "\n",
    "5. Repeat the calculations in points 2 and 3\n",
    "6. All previous steps of the k-means algorithm run together in a loop.\n",
    "7. Stop the iteration when:\n",
    "  - stop the process when the iteration counter reaches the fixed number of iterations\n",
    "\n",
    "  ----"
   ]
  },
  {
   "cell_type": "markdown",
   "metadata": {},
   "source": [
    "##  `kmeansFun` module\n",
    "\n",
    "3. Create module `kmeansFun` containing functions:\n",
    "  >- `myKmeans()` -  implementation of the algorithm\n",
    "  >- create module `kmeansFun`\n",
    "  >- `myScat(data,centroids=None,labels=None)` - simple function for plotting data and centroids\n",
    "  >- `dataTest(k,sx=0.5,sy=0.65,show=False,seed=19,samples=150)` - generates test data from the normal distribution\n",
    "  >- `circleData(n,npi=1,samples=500,scale=0.2,show=False)` - generates data arranged in circles\n",
    "  >- `myDistance(ar,centroid)` - calculates the euclidean distance of each point from each centroid\n",
    "  >- `normalizeKm(data)` - normalizes data to a range from 0 to 1\n",
    "  >- `dataTransform()` - transformation of image data to input data for the algorithm\n"
   ]
  },
  {
   "cell_type": "code",
   "execution_count": 2,
   "metadata": {
    "tags": [
     "path"
    ]
   },
   "outputs": [
    {
     "data": {
      "text/plain": [
       "['/home/u1/22_dydaktyka/05imProc/rok2021',\n",
       " '/home/u1/anaconda3/envs/imProc/lib/python39.zip',\n",
       " '/home/u1/anaconda3/envs/imProc/lib/python3.9',\n",
       " '/home/u1/anaconda3/envs/imProc/lib/python3.9/lib-dynload',\n",
       " '',\n",
       " '/home/u1/anaconda3/envs/imProc/lib/python3.9/site-packages',\n",
       " '/home/u1/anaconda3/envs/imProc/lib/python3.9/site-packages/IPython/extensions',\n",
       " '/home/u1/.ipython',\n",
       " '/home/u1/22_dydaktyka/05imProc/rok2021/kod']"
      ]
     },
     "execution_count": 2,
     "metadata": {},
     "output_type": "execute_result"
    }
   ],
   "source": [
    "dir_add = Path('./kod/').resolve().as_posix()\n",
    "sys.path.append(dir_add)\n",
    "sys.path"
   ]
  },
  {
   "cell_type": "markdown",
   "metadata": {},
   "source": [
    "---\n",
    "---\n",
    "\n",
    "# Test data \n",
    "Data for many algorithms take the form of a `table` in which:\n",
    "- columns represent various independent variables, often called features\n",
    "- lines (rows) represent cases\n",
    "\n",
    "The test data will consist of two features: `x` and `y`, and multiple cases (lines). Each line represents a point in the 2D plane `p(x,y)`. Three datasets will be randomly generated: \n",
    "  >- data with well-separated clusters \n",
    "  >- data without visible clusters\n",
    "  >- data forming circular patterns\n",
    "\n",
    "\n",
    "\n",
    "## Standardisation of data to a range from 0 to 1\n",
    "\n",
    "  >In general, each column of the data table may contain different data:   \n",
    "  >different ranges, different units. Such data should be standardised, e.g.:   \n",
    "  \n",
    "  $$ \\frac{x - x_{min}}{x_{max} - x_{min}} $$\n",
    "  "
   ]
  },
  {
   "cell_type": "code",
   "execution_count": 3,
   "metadata": {
    "tags": [
     "func"
    ]
   },
   "outputs": [],
   "source": [
    "def normalizeKm(data):\n",
    "    ff = lambda v: (v-v.min())/(v.max()-v.min())\n",
    "    return np.apply_along_axis(ff,0,data)"
   ]
  },
  {
   "cell_type": "code",
   "execution_count": 4,
   "metadata": {},
   "outputs": [
    {
     "data": {
      "text/plain": [
       "array([[0.87012414, 0.68496874],\n",
       "       [0.58227693, 0.43761106],\n",
       "       [0.27883894, 0.55622933],\n",
       "       [0.18591123, 0.36708032],\n",
       "       [0.41110013, 0.40236573],\n",
       "       [0.11737555, 0.1130407 ]])"
      ]
     },
     "execution_count": 4,
     "metadata": {},
     "output_type": "execute_result"
    }
   ],
   "source": [
    "np.random.seed(25)\n",
    "x = np.random.random_sample(6)\n",
    "y = np.random.random_sample(6)\n",
    "tmp = np.array([x,y]).T\n",
    "tmp"
   ]
  },
  {
   "cell_type": "code",
   "execution_count": 5,
   "metadata": {},
   "outputs": [
    {
     "data": {
      "text/plain": [
       "array([[1.        , 1.        ],\n",
       "       [0.61760512, 0.56750209],\n",
       "       [0.21449843, 0.77490277],\n",
       "       [0.09104724, 0.44418109],\n",
       "       [0.39020276, 0.50587662],\n",
       "       [0.        , 0.        ]])"
      ]
     },
     "execution_count": 5,
     "metadata": {},
     "output_type": "execute_result"
    }
   ],
   "source": [
    "normalizeKm(tmp)"
   ]
  },
  {
   "cell_type": "markdown",
   "metadata": {},
   "source": [
    "## Data with and without visible clusters\n",
    "\n",
    "  >- `k` - number of clusters   \n",
    "  >- `mx, my` - randomly generated mean values (x and y) of clusters    \n",
    "  >- `sx, sy` - fixed standard deviations (x and y) of clusters\n",
    "  >- `for` - a loop generating a data set for each cluster (for each average `mx` i `my`)  \n",
    "  >- `samples` - determines how much data to generate for the cluster\n",
    "  >- `uniform` - determines whether to generate data with clearly separated clusters or data composed of evenly distributed points "
   ]
  },
  {
   "cell_type": "code",
   "execution_count": 6,
   "metadata": {
    "tags": [
     "func"
    ]
   },
   "outputs": [],
   "source": [
    "def dataTest(k,sx=0.5,sy=0.65,seed=19,samples=150,uniform=0):\n",
    "    ''' Args:std_range=3\n",
    "            - k:     int, number of classes\n",
    "    '''\n",
    "    np.random.seed(seed)\n",
    "    \n",
    "    x = np.array([])\n",
    "    y = np.array([])\n",
    "\n",
    "    for i in range(k):\n",
    "        #np.random.seed(i**2)\n",
    "        mx, my = np.abs(np.random.normal(0,k,2))\n",
    "        \n",
    "        if uniform:\n",
    "            xi = np.random.random_sample(samples)\n",
    "            yi = np.random.random_sample(samples)\n",
    "        else:\n",
    "            xi = np.random.normal(mx,sx,samples)\n",
    "            yi = np.random.normal(my,sy,samples)\n",
    "        \n",
    "        x = np.hstack([x,xi])\n",
    "        y = np.hstack([y,yi])\n",
    "            \n",
    "    data = np.array([x,y]).T\n",
    "    return normalizeKm(data)"
   ]
  },
  {
   "cell_type": "code",
   "execution_count": 7,
   "metadata": {},
   "outputs": [
    {
     "name": "stdout",
     "output_type": "stream",
     "text": [
      "data.shape: (275, 2), min/max: 0.0 / 1.0\n"
     ]
    },
    {
     "data": {
      "image/png": "[encoded data removed]",
      "text/plain": [
       "<Figure size 432x288 with 1 Axes>"
      ]
     },
     "metadata": {
      "needs_background": "light"
     },
     "output_type": "display_data"
    }
   ],
   "source": [
    "# Data without visible clusters\n",
    "data = dataTest(k=5,sx=0.5,sy=0.65,seed=571,samples=55,uniform=1)\n",
    "print(f'data.shape: {data.shape}, min/max: {data.min()} / {data.max()}')\n",
    "\n",
    "plt.scatter(data[:,0], data[:,1], marker='.', s=7, color = 'k');"
   ]
  },
  {
   "cell_type": "code",
   "execution_count": 8,
   "metadata": {
    "scrolled": true
   },
   "outputs": [
    {
     "name": "stdout",
     "output_type": "stream",
     "text": [
      "data.shape: (275, 2), min/max: 0.0 / 1.0\n"
     ]
    },
    {
     "data": {
      "image/png": "[encoded data removed]",
      "text/plain": [
       "<Figure size 432x288 with 1 Axes>"
      ]
     },
     "metadata": {
      "needs_background": "light"
     },
     "output_type": "display_data"
    }
   ],
   "source": [
    "# Data with visible clusters\n",
    "data = dataTest(k=5,sx=0.5,sy=0.65,seed=571,samples=55)\n",
    "print(f'data.shape: {data.shape}, min/max: {data.min()} / {data.max()}')\n",
    "plt.scatter(data[:,0], data[:,1], marker='.', s=7, color = 'k');"
   ]
  },
  {
   "cell_type": "markdown",
   "metadata": {},
   "source": [
    "## Data forming circular patterns"
   ]
  },
  {
   "cell_type": "code",
   "execution_count": 9,
   "metadata": {
    "tags": [
     "func"
    ]
   },
   "outputs": [],
   "source": [
    "def circleData(n,npi=1,samples=500,scale=0.2):\n",
    "    ''' Args:\n",
    "            - n:       int, number of circle\n",
    "            - npi:     float, 0-2: eg. 0*pi, 0.5*pi,...,2pi - `angle range`\n",
    "            - samples: number of points for single circle\n",
    "    '''\n",
    "    np.random.seed(5)\n",
    "    angle = np.linspace(0, npi*np.pi, samples)\n",
    "    labels = np.arange(1,n+1)\n",
    "    \n",
    "    x, y = [],[]\n",
    "    x = np.array([])\n",
    "    y = np.array([])\n",
    "    \n",
    "    #for l in labels:\n",
    "    for i in range(1,n+1):\n",
    "        #scale = np.random.normal(0,0.5)\n",
    "        r = np.random.normal(2*i,scale,samples)\n",
    "        xi,yi = r * np.cos(angle), r * np.sin(angle)\n",
    "        x = np.hstack([x,xi])\n",
    "        y = np.hstack([y,yi])\n",
    "\n",
    "    data = np.array([x,y]).T\n",
    "    return normalizeKm(data)"
   ]
  },
  {
   "cell_type": "code",
   "execution_count": 10,
   "metadata": {},
   "outputs": [
    {
     "name": "stdout",
     "output_type": "stream",
     "text": [
      "data.shape: (2000, 2), min/max: 0.0 / 1.0\n"
     ]
    },
    {
     "data": {
      "image/png": "[encoded data removed]",
      "text/plain": [
       "<Figure size 432x288 with 1 Axes>"
      ]
     },
     "metadata": {
      "needs_background": "light"
     },
     "output_type": "display_data"
    }
   ],
   "source": [
    "data = circleData(n=4,npi=1.3,samples=500,scale=0.2)\n",
    "print(f'data.shape: {data.shape}, min/max: {data.min()} / {data.max()}')\n",
    "plt.scatter(data[:,0], data[:,1], marker='.', s=7, color = 'k');"
   ]
  },
  {
   "cell_type": "markdown",
   "metadata": {},
   "source": [
    "\n",
    "\n",
    "\n",
    "5. Determine new centroid coordinates: average position values of points in the classes.\n",
    "6. Repeat the calculations in points 2 and 3\n",
    "7. All previous steps of the k-means algorithm run together in a loop.\n",
    "7. Stop the iteration: Stop the algorithm when the difference between the old and the new centroids is negligible."
   ]
  },
  {
   "cell_type": "markdown",
   "metadata": {},
   "source": []
  },
  {
   "cell_type": "markdown",
   "metadata": {},
   "source": [
    "---\n",
    "---\n",
    "\n",
    "# Initial selection of centroids \n",
    "\n",
    "The method of generating the initial centroids is of great importance for the clustering process. Three methods will be compared: \n",
    "  >- random generation of centroids\n",
    "  >- random selection of centroids from data\n",
    "  >- `k-means++` method (maximising the distance between centroids)"
   ]
  },
  {
   "cell_type": "code",
   "execution_count": 11,
   "metadata": {},
   "outputs": [],
   "source": [
    "k = 5 #classes - centroids\n",
    "seed=571\n",
    "data = dataTest(k,sx=0.5,sy=0.65,seed=seed,samples=5)"
   ]
  },
  {
   "cell_type": "markdown",
   "metadata": {},
   "source": [
    "## Random generation of centroids"
   ]
  },
  {
   "cell_type": "code",
   "execution_count": 12,
   "metadata": {},
   "outputs": [
    {
     "data": {
      "text/plain": [
       "array([[ 0.21345686,  0.13136016],\n",
       "       [ 0.47197454,  0.55133008],\n",
       "       [ 0.39748297,  0.1719363 ],\n",
       "       [ 0.31913088,  0.42297988],\n",
       "       [-0.43779043,  0.47957472]])"
      ]
     },
     "execution_count": 12,
     "metadata": {},
     "output_type": "execute_result"
    }
   ],
   "source": [
    "np.random.seed(seed)\n",
    "mm = data.mean()\n",
    "std = data.std()\n",
    "centr = np.random.normal(mm,std,(k,2))\n",
    "centr"
   ]
  },
  {
   "cell_type": "code",
   "execution_count": 13,
   "metadata": {},
   "outputs": [
    {
     "data": {
      "text/plain": [
       "[<matplotlib.lines.Line2D at 0x7f2e0f53bbe0>]"
      ]
     },
     "execution_count": 13,
     "metadata": {},
     "output_type": "execute_result"
    },
    {
     "data": {
      "image/png": "[encoded data removed]",
      "text/plain": [
       "<Figure size 432x288 with 1 Axes>"
      ]
     },
     "metadata": {
      "needs_background": "light"
     },
     "output_type": "display_data"
    }
   ],
   "source": [
    "plt.scatter(data[:,0], data[:,1], marker='.', s=7, color = 'k');\n",
    "plt.plot(centr[:,0],centr[:,1],'*',c='r', markersize=10)"
   ]
  },
  {
   "cell_type": "code",
   "execution_count": 14,
   "metadata": {
    "tags": [
     "func"
    ]
   },
   "outputs": [],
   "source": [
    "def initRandom(k,data,seed=1):\n",
    "    '''It draws k centroids from a normal distribution, based on data'''\n",
    "    mm = data.mean()\n",
    "    std = data.std()\n",
    "    np.random.seed(seed)\n",
    "    cent = np.random.normal(mm,std,(k,data.shape[1]))\n",
    "    return cent"
   ]
  },
  {
   "cell_type": "code",
   "execution_count": 15,
   "metadata": {},
   "outputs": [
    {
     "name": "stdout",
     "output_type": "stream",
     "text": [
      "[[ 0.21345686  0.13136016]\n",
      " [ 0.47197454  0.55133008]\n",
      " [ 0.39748297  0.1719363 ]\n",
      " [ 0.31913088  0.42297988]\n",
      " [-0.43779043  0.47957472]]\n"
     ]
    },
    {
     "data": {
      "text/plain": [
       "[<matplotlib.lines.Line2D at 0x7f2e0f527520>]"
      ]
     },
     "execution_count": 15,
     "metadata": {},
     "output_type": "execute_result"
    },
    {
     "data": {
      "image/png": "[encoded data removed]",
      "text/plain": [
       "<Figure size 432x288 with 1 Axes>"
      ]
     },
     "metadata": {
      "needs_background": "light"
     },
     "output_type": "display_data"
    }
   ],
   "source": [
    "centr = initRandom(k,data,seed)\n",
    "print(centr)\n",
    "plt.scatter(data[:,0], data[:,1], marker='.', s=7, color = 'k');\n",
    "plt.plot(centr[:,0],centr[:,1],'*',c='r', markersize=10)"
   ]
  },
  {
   "cell_type": "markdown",
   "metadata": {},
   "source": [
    "## Random selection centroids from data\n",
    "\n",
    "> From the data, centroids are randomly selected. Initial centroids are therefore existing data points!"
   ]
  },
  {
   "cell_type": "code",
   "execution_count": 16,
   "metadata": {},
   "outputs": [
    {
     "name": "stdout",
     "output_type": "stream",
     "text": [
      "idx: [ 9  1  6  6 16]\n",
      "\n",
      "cent:\n",
      "[[0.69498235 0.2135937 ]\n",
      " [0.17718277 0.        ]\n",
      " [0.80499225 0.2493844 ]\n",
      " [0.80499225 0.2493844 ]\n",
      " [0.90857646 0.92696117]]\n"
     ]
    }
   ],
   "source": [
    "np.random.seed(seed)\n",
    "idx = np.random.randint(0,data.shape[0],k)\n",
    "centr = data[idx,:]\n",
    "print(f'idx: {idx}\\n\\ncent:\\n{centr}')"
   ]
  },
  {
   "cell_type": "code",
   "execution_count": 17,
   "metadata": {
    "tags": [
     "func"
    ]
   },
   "outputs": [],
   "source": [
    "def initChoice(k,data,seed=1):\n",
    "    '''Selects randomly k centroids from the data.'''\n",
    "    np.random.seed(seed)\n",
    "    idx = np.random.randint(0,data.shape[0],k)\n",
    "    return(data[idx,:])"
   ]
  },
  {
   "cell_type": "code",
   "execution_count": 18,
   "metadata": {},
   "outputs": [
    {
     "name": "stdout",
     "output_type": "stream",
     "text": [
      "[[0.90857646 0.92696117]\n",
      " [0.95057631 0.6885777 ]\n",
      " [0.13173088 0.18030354]\n",
      " [0.61141027 0.21836166]\n",
      " [0.08238178 0.14164385]]\n"
     ]
    },
    {
     "data": {
      "text/plain": [
       "[<matplotlib.lines.Line2D at 0x7f2e0f56b4f0>]"
      ]
     },
     "execution_count": 18,
     "metadata": {},
     "output_type": "execute_result"
    },
    {
     "data": {
      "image/png": "[encoded data removed]",
      "text/plain": [
       "<Figure size 432x288 with 1 Axes>"
      ]
     },
     "metadata": {
      "needs_background": "light"
     },
     "output_type": "display_data"
    }
   ],
   "source": [
    "centr = initChoice(k,data,seed+1)\n",
    "print(centr)\n",
    "plt.scatter(data[:,0], data[:,1], marker='.', s=7, color = 'k');\n",
    "plt.plot(centr[:,0],centr[:,1],'*',c='r', markersize=10)"
   ]
  },
  {
   "cell_type": "markdown",
   "metadata": {},
   "source": [
    "---\n",
    "## `k-means++` method (maximising the distance between centroids)\n",
    "\n",
    "$$max(prob) = max(\\frac{D(x)^2}{\\sum D(x)^2})$$\n",
    "\n",
    "Centroids are selected from existing data:\n",
    " >- the first centroid is selected at random\n",
    " >- iterative selection - successive centroids are selected one after another\n",
    " >- the next centroid is the data point that is furthest away from the already selected centroid\n",
    " >- the measure of distance is the Euclidean distance"
   ]
  },
  {
   "cell_type": "code",
   "execution_count": 19,
   "metadata": {},
   "outputs": [
    {
     "name": "stdout",
     "output_type": "stream",
     "text": [
      "data.shape: (275, 2), k: 5, seed: 17\n"
     ]
    },
    {
     "data": {
      "image/png": "[encoded data removed]",
      "text/plain": [
       "<Figure size 432x288 with 1 Axes>"
      ]
     },
     "metadata": {
      "needs_background": "light"
     },
     "output_type": "display_data"
    }
   ],
   "source": [
    "k=5\n",
    "seed=17\n",
    "\n",
    "data = dataTest(k,sx=0.5,sy=0.65,seed=seed,samples=55)\n",
    "plt.scatter(data[:,0], data[:,1], marker='.', s=7, color = 'k');\n",
    "print(f'data.shape: {data.shape}, k: {k}, seed: {seed}')"
   ]
  },
  {
   "cell_type": "code",
   "execution_count": 20,
   "metadata": {},
   "outputs": [
    {
     "name": "stdout",
     "output_type": "stream",
     "text": [
      "idx: 111\n",
      "\n",
      "cent:\n",
      "[[0.79202093 0.36650181]] / (1, 2)\n"
     ]
    },
    {
     "data": {
      "text/plain": [
       "[<matplotlib.lines.Line2D at 0x7f2e0f6c5ac0>]"
      ]
     },
     "execution_count": 20,
     "metadata": {},
     "output_type": "execute_result"
    },
    {
     "data": {
      "image/png": "[encoded data removed]",
      "text/plain": [
       "<Figure size 432x288 with 1 Axes>"
      ]
     },
     "metadata": {
      "needs_background": "light"
     },
     "output_type": "display_data"
    }
   ],
   "source": [
    "# random selection of the first centroid from data\n",
    "np.random.seed(seed)\n",
    "idx = np.random.randint(0,data.shape[0],1)[0]\n",
    "idxlist = [idx]\n",
    "centr = data[idx,:].reshape(1,-1)\n",
    "\n",
    "data = np.delete(data,idx,axis=0)\n",
    "\n",
    "print(f'idx: {idx}\\n\\ncent:\\n{centr} / {centr.shape}')\n",
    "plt.scatter(data[:,0], data[:,1], marker='.', s=7, color = 'k');\n",
    "plt.plot(centr[:,0],centr[:,1],'*',c='r', markersize=10)"
   ]
  },
  {
   "cell_type": "code",
   "execution_count": 21,
   "metadata": {},
   "outputs": [
    {
     "data": {
      "text/plain": [
       "((274, 2), (1, 2))"
      ]
     },
     "execution_count": 21,
     "metadata": {},
     "output_type": "execute_result"
    }
   ],
   "source": [
    "data.shape, centr.shape"
   ]
  },
  {
   "cell_type": "code",
   "execution_count": 22,
   "metadata": {},
   "outputs": [
    {
     "name": "stdout",
     "output_type": "stream",
     "text": [
      "dif.shape: (1, 274, 2)\n"
     ]
    },
    {
     "data": {
      "text/plain": [
       "array([[[-0.53806166,  0.54283878],\n",
       "        [-0.50465573,  0.44085769],\n",
       "        [-0.51158286,  0.43707718],\n",
       "        [-0.45716003,  0.46669724],\n",
       "        [-0.58519037,  0.48555105]]])"
      ]
     },
     "execution_count": 22,
     "metadata": {},
     "output_type": "execute_result"
    }
   ],
   "source": [
    "#difference of coordinates of points and centroids (x-xi), (y-yi)\n",
    "dif = (data - centr[:,np.newaxis])\n",
    "print(f'dif.shape: {dif.shape}')\n",
    "dif[:,:5,:]"
   ]
  },
  {
   "cell_type": "code",
   "execution_count": 23,
   "metadata": {
    "scrolled": true
   },
   "outputs": [
    {
     "name": "stdout",
     "output_type": "stream",
     "text": [
      "dist.shape: (274, 1)\n"
     ]
    },
    {
     "data": {
      "text/plain": [
       "array([[0.58418429],\n",
       "       [0.44903291],\n",
       "       [0.45275348],\n",
       "       [0.4268016 ],\n",
       "       [0.57820758]])"
      ]
     },
     "execution_count": 23,
     "metadata": {},
     "output_type": "execute_result"
    }
   ],
   "source": [
    "#distance of each point from each centroid  D(x)\n",
    "#dist = (np.sum(dif**2,axis=-1)**0.5).T\n",
    "dist = np.sum(dif**2,axis=-1).T\n",
    "print(f'dist.shape: {dist.shape}')\n",
    "dist[:5,:]"
   ]
  },
  {
   "cell_type": "code",
   "execution_count": 24,
   "metadata": {
    "scrolled": true
   },
   "outputs": [
    {
     "name": "stdout",
     "output_type": "stream",
     "text": [
      "distSum.shape: (274, 1)\n"
     ]
    },
    {
     "data": {
      "text/plain": [
       "array([[7.86723358e-03],\n",
       "       [6.04714439e-03],\n",
       "       [6.09724952e-03],\n",
       "       [5.74775448e-03],\n",
       "       [7.78674502e-03],\n",
       "       [7.43613593e-03],\n",
       "       [5.73064662e-03],\n",
       "       [7.51047639e-03],\n",
       "       [5.88615400e-03],\n",
       "       [6.88793352e-03],\n",
       "       [9.64599876e-03],\n",
       "       [9.90592785e-03],\n",
       "       [7.50686623e-03],\n",
       "       [8.98276997e-03],\n",
       "       [6.37212272e-03],\n",
       "       [8.35412213e-03],\n",
       "       [9.23934882e-03],\n",
       "       [8.40489246e-03],\n",
       "       [9.02170532e-03],\n",
       "       [6.25676876e-03],\n",
       "       [8.26234253e-03],\n",
       "       [8.94267370e-03],\n",
       "       [8.46661528e-03],\n",
       "       [7.17170040e-03],\n",
       "       [9.46754948e-03],\n",
       "       [7.47237210e-03],\n",
       "       [7.69579782e-03],\n",
       "       [7.93068661e-03],\n",
       "       [6.58568077e-03],\n",
       "       [9.45130312e-03],\n",
       "       [5.57846653e-03],\n",
       "       [8.21113446e-03],\n",
       "       [6.28221685e-03],\n",
       "       [6.12425268e-03],\n",
       "       [7.37550150e-03],\n",
       "       [9.45210691e-03],\n",
       "       [8.04663192e-03],\n",
       "       [1.05863618e-02],\n",
       "       [9.65144683e-03],\n",
       "       [5.27341821e-03],\n",
       "       [7.05088998e-03],\n",
       "       [8.15568913e-03],\n",
       "       [8.78063212e-03],\n",
       "       [7.38618795e-03],\n",
       "       [7.17966239e-03],\n",
       "       [7.33179704e-03],\n",
       "       [9.23240799e-03],\n",
       "       [9.67609661e-03],\n",
       "       [7.85013993e-03],\n",
       "       [8.45151031e-03],\n",
       "       [6.59563225e-03],\n",
       "       [8.57131112e-03],\n",
       "       [6.27189069e-03],\n",
       "       [6.13781461e-03],\n",
       "       [7.91792008e-03],\n",
       "       [1.23339505e-05],\n",
       "       [1.80880178e-05],\n",
       "       [6.13080281e-05],\n",
       "       [3.91484354e-05],\n",
       "       [7.94882244e-05],\n",
       "       [3.09570393e-05],\n",
       "       [3.46707416e-04],\n",
       "       [1.44385116e-05],\n",
       "       [6.63308080e-05],\n",
       "       [5.01538512e-05],\n",
       "       [1.67849052e-04],\n",
       "       [1.25464212e-04],\n",
       "       [5.04165457e-04],\n",
       "       [2.61046615e-05],\n",
       "       [1.11519365e-04],\n",
       "       [7.47401530e-05],\n",
       "       [2.75565541e-04],\n",
       "       [3.89401185e-05],\n",
       "       [5.43874872e-05],\n",
       "       [2.15427389e-04],\n",
       "       [1.71176868e-04],\n",
       "       [3.50000505e-06],\n",
       "       [3.14841799e-07],\n",
       "       [2.01090134e-04],\n",
       "       [1.52811739e-04],\n",
       "       [2.69676685e-04],\n",
       "       [9.36555600e-05],\n",
       "       [1.34741530e-05],\n",
       "       [2.03469622e-04],\n",
       "       [1.96648991e-04],\n",
       "       [7.33646417e-05],\n",
       "       [7.16554485e-05],\n",
       "       [1.07551141e-05],\n",
       "       [2.07118419e-04],\n",
       "       [8.36317853e-05],\n",
       "       [5.35515581e-05],\n",
       "       [6.04076513e-05],\n",
       "       [1.76015208e-04],\n",
       "       [4.29297576e-05],\n",
       "       [7.99315038e-05],\n",
       "       [1.30864099e-05],\n",
       "       [1.59382209e-04],\n",
       "       [9.67593147e-05],\n",
       "       [1.98763708e-06],\n",
       "       [4.95038576e-05],\n",
       "       [6.48240756e-05],\n",
       "       [1.40703890e-05],\n",
       "       [1.83863949e-05],\n",
       "       [2.27895725e-04],\n",
       "       [5.03222404e-05],\n",
       "       [2.77951735e-05],\n",
       "       [1.45839242e-04],\n",
       "       [1.31121423e-04],\n",
       "       [7.74801332e-05],\n",
       "       [4.62222675e-05],\n",
       "       [3.17014099e-04],\n",
       "       [2.91721989e-04],\n",
       "       [2.50233712e-04],\n",
       "       [3.06194728e-04],\n",
       "       [6.20243015e-04],\n",
       "       [8.77255917e-05],\n",
       "       [5.65461481e-05],\n",
       "       [1.31586826e-04],\n",
       "       [2.14162808e-04],\n",
       "       [2.35241767e-04],\n",
       "       [8.10506126e-05],\n",
       "       [3.03633339e-04],\n",
       "       [2.97639039e-04],\n",
       "       [9.95473623e-04],\n",
       "       [1.69366592e-04],\n",
       "       [2.13877605e-04],\n",
       "       [4.13481334e-05],\n",
       "       [7.14834614e-04],\n",
       "       [3.30815949e-04],\n",
       "       [2.69581821e-04],\n",
       "       [5.52032626e-04],\n",
       "       [2.04599337e-04],\n",
       "       [1.36998675e-04],\n",
       "       [4.57095555e-04],\n",
       "       [7.68725989e-05],\n",
       "       [5.89514505e-04],\n",
       "       [9.90865786e-05],\n",
       "       [3.31063609e-04],\n",
       "       [5.01584016e-04],\n",
       "       [6.16528134e-04],\n",
       "       [1.25706584e-04],\n",
       "       [2.77354690e-04],\n",
       "       [4.08241698e-04],\n",
       "       [1.28169005e-04],\n",
       "       [6.40634502e-05],\n",
       "       [2.10442629e-04],\n",
       "       [5.10729232e-04],\n",
       "       [1.33005156e-04],\n",
       "       [2.85093063e-04],\n",
       "       [1.41326416e-04],\n",
       "       [3.25576199e-04],\n",
       "       [3.65032481e-04],\n",
       "       [3.66501328e-04],\n",
       "       [5.93718402e-04],\n",
       "       [5.62977886e-04],\n",
       "       [2.80938813e-04],\n",
       "       [4.87305886e-04],\n",
       "       [3.55255359e-04],\n",
       "       [1.69365148e-04],\n",
       "       [7.55728478e-05],\n",
       "       [4.90218733e-04],\n",
       "       [1.29420646e-04],\n",
       "       [4.60700835e-04],\n",
       "       [9.98905272e-07],\n",
       "       [2.93983448e-03],\n",
       "       [2.47190871e-03],\n",
       "       [3.26422551e-03],\n",
       "       [2.76620321e-03],\n",
       "       [2.62277791e-03],\n",
       "       [3.21506119e-03],\n",
       "       [3.40497567e-03],\n",
       "       [3.80458263e-03],\n",
       "       [3.30510677e-03],\n",
       "       [3.56344685e-03],\n",
       "       [2.80190810e-03],\n",
       "       [2.61685459e-03],\n",
       "       [4.05600250e-03],\n",
       "       [3.59584683e-03],\n",
       "       [3.96119253e-03],\n",
       "       [4.53694863e-03],\n",
       "       [3.88434260e-03],\n",
       "       [1.93824411e-03],\n",
       "       [4.16540636e-03],\n",
       "       [2.77378052e-03],\n",
       "       [3.76116831e-03],\n",
       "       [2.90500563e-03],\n",
       "       [2.50473657e-03],\n",
       "       [3.35363830e-03],\n",
       "       [2.81480720e-03],\n",
       "       [5.51755738e-03],\n",
       "       [2.02664631e-03],\n",
       "       [2.52555414e-03],\n",
       "       [4.28481019e-03],\n",
       "       [3.14249350e-03],\n",
       "       [4.31282362e-03],\n",
       "       [3.04401989e-03],\n",
       "       [4.11573419e-03],\n",
       "       [3.33752667e-03],\n",
       "       [2.77766790e-03],\n",
       "       [3.51610857e-03],\n",
       "       [3.12771134e-03],\n",
       "       [2.82902709e-03],\n",
       "       [3.79205896e-03],\n",
       "       [3.76706957e-03],\n",
       "       [3.39974953e-03],\n",
       "       [3.21139424e-03],\n",
       "       [3.13260207e-03],\n",
       "       [3.52144154e-03],\n",
       "       [2.14620365e-03],\n",
       "       [2.87647362e-03],\n",
       "       [3.20220646e-03],\n",
       "       [2.83416512e-03],\n",
       "       [2.28109893e-03],\n",
       "       [2.00483625e-03],\n",
       "       [3.86890412e-03],\n",
       "       [2.75618821e-03],\n",
       "       [2.61990574e-03],\n",
       "       [2.88669198e-03],\n",
       "       [3.21748969e-03],\n",
       "       [5.51952386e-03],\n",
       "       [5.90621510e-03],\n",
       "       [5.74088835e-03],\n",
       "       [5.59806831e-03],\n",
       "       [6.22508706e-03],\n",
       "       [7.29781592e-03],\n",
       "       [3.84742214e-03],\n",
       "       [8.28885115e-03],\n",
       "       [8.34548322e-03],\n",
       "       [6.55892348e-03],\n",
       "       [7.18715937e-03],\n",
       "       [6.72667260e-03],\n",
       "       [6.45459262e-03],\n",
       "       [8.47466091e-03],\n",
       "       [6.43152194e-03],\n",
       "       [7.34540724e-03],\n",
       "       [7.89637123e-03],\n",
       "       [6.29274219e-03],\n",
       "       [7.02848832e-03],\n",
       "       [6.63810428e-03],\n",
       "       [5.27705936e-03],\n",
       "       [5.35910329e-03],\n",
       "       [7.69208783e-03],\n",
       "       [7.16096833e-03],\n",
       "       [5.77073515e-03],\n",
       "       [7.50987005e-03],\n",
       "       [7.49911611e-03],\n",
       "       [7.40416115e-03],\n",
       "       [6.14049699e-03],\n",
       "       [7.43308696e-03],\n",
       "       [7.82407697e-03],\n",
       "       [7.36412601e-03],\n",
       "       [5.82831667e-03],\n",
       "       [5.02670357e-03],\n",
       "       [7.68246471e-03],\n",
       "       [6.45623193e-03],\n",
       "       [7.08772666e-03],\n",
       "       [6.11378294e-03],\n",
       "       [6.46504209e-03],\n",
       "       [7.21246453e-03],\n",
       "       [6.06442004e-03],\n",
       "       [6.02365256e-03],\n",
       "       [7.37920373e-03],\n",
       "       [7.82030712e-03],\n",
       "       [1.09685435e-02],\n",
       "       [7.84492379e-03],\n",
       "       [6.53535643e-03],\n",
       "       [6.33147995e-03],\n",
       "       [7.04952466e-03],\n",
       "       [6.90020979e-03],\n",
       "       [6.86089184e-03],\n",
       "       [3.81346660e-03],\n",
       "       [1.00746042e-02],\n",
       "       [5.71870175e-03],\n",
       "       [8.04873212e-03]])"
      ]
     },
     "execution_count": 24,
     "metadata": {},
     "output_type": "execute_result"
    }
   ],
   "source": [
    "#sum of the distances of each point from all centroids\n",
    "distSum = dist.sum(axis=-1).reshape(-1,1)\n",
    "sum1 = distSum.sum()\n",
    "prob = distSum/sum1\n",
    "print(f'distSum.shape: {distSum.shape}')\n",
    "distSum[:5,:]\n",
    "prob[:,:]"
   ]
  },
  {
   "cell_type": "code",
   "execution_count": 25,
   "metadata": {},
   "outputs": [
    {
     "name": "stdout",
     "output_type": "stream",
     "text": [
      "idx: 263, point: [0.         0.79914026]\n",
      "idxlist: [111, 263]\n",
      "\n",
      "centr.shape: (2, 2),  newCentr.shape: (2,)\n",
      "\n",
      "centr:\n",
      "[[0.79202093 0.36650181]\n",
      " [0.         0.79914026]]\n"
     ]
    }
   ],
   "source": [
    "#the point with the greatest sum of distances\n",
    "#idx = np.argmax(distSum)\n",
    "idx = np.argmax(prob)\n",
    "idxlist.append(idx)\n",
    "newCentr = data[idx]#,np.newaxis,:]\n",
    "print(f'idx: {idx}, point: {newCentr}\\nidxlist: {idxlist}\\n')\n",
    "centr = np.vstack((centr,newCentr))\n",
    "\n",
    "print(f'centr.shape: {centr.shape},  newCentr.shape: {newCentr.shape}\\n\\ncentr:\\n{centr}')"
   ]
  },
  {
   "cell_type": "code",
   "execution_count": 26,
   "metadata": {},
   "outputs": [
    {
     "name": "stdout",
     "output_type": "stream",
     "text": [
      "dif.shape: (2, 274, 2)\n",
      "[[[-0.53806166  0.54283878]\n",
      "  [-0.50465573  0.44085769]\n",
      "  [-0.51158286  0.43707718]\n",
      "  [-0.45716003  0.46669724]\n",
      "  [-0.58519037  0.48555105]]\n",
      "\n",
      " [[ 0.25395927  0.11020033]\n",
      "  [ 0.2873652   0.00821924]\n",
      "  [ 0.28043807  0.00443873]\n",
      "  [ 0.33486091  0.03405879]\n",
      "  [ 0.20683057  0.0529126 ]]]\n",
      "\n",
      "dist.shape: (274, 2)\n",
      "[[0.58418429 0.07663942]\n",
      " [0.44903291 0.08264632]\n",
      " [0.45275348 0.07866521]\n",
      " [0.4268016  0.11329183]\n",
      " [0.57820758 0.04557863]]\n",
      "\n",
      "distSum.shape: (274, 1)\n",
      "[[0.66082371]\n",
      " [0.53167922]\n",
      " [0.5314187 ]\n",
      " [0.54009343]\n",
      " [0.62378621]]\n",
      "\n",
      "\n",
      " ++++++++++++++++++++++++++++++++++++++++++++++++++ \n",
      "\n",
      "\n",
      "idx: 67, point: [0.9435397  0.24617288]\n",
      "idxlist: [111, 263, 67]\n",
      "\n",
      "centr.shape: (3, 2),  newCentr.shape: (2,)\n",
      "\n",
      "centr:\n",
      "[[0.79202093 0.36650181]\n",
      " [0.         0.79914026]\n",
      " [0.9435397  0.24617288]]\n"
     ]
    }
   ],
   "source": [
    "#Adding another centroid:\n",
    "\n",
    "#difference of coordinates of points and centroids (x-xi), (y-yi)\n",
    "dif = (data - centr[:,np.newaxis])\n",
    "print(f'dif.shape: {dif.shape}\\n{dif[:,:5,:]}\\n')\n",
    "\n",
    "\n",
    "#distance of each point from each centroid \n",
    "dist = np.sum(dif**2,axis=-1).T\n",
    "print(f'dist.shape: {dist.shape}\\n{dist[:5,:]}\\n')\n",
    "\n",
    "#sum of the distances of each point from all centroids\n",
    "distSum = dist.sum(axis=-1).reshape(-1,1)\n",
    "sum1 = distSum.sum()\n",
    "prob = distSum/sum1\n",
    "print(f'distSum.shape: {distSum.shape}\\n{distSum[:5,:]}')\n",
    "print('\\n\\n',50*'+','\\n\\n')\n",
    "\n",
    "#the point with the greatest sum of distances\n",
    "#idx = np.argmax(distSum)\n",
    "idx = np.argmax(prob)\n",
    "idxlist.append(idx)\n",
    "newCentr = data[idx]#,np.newaxis,:]\n",
    "print(f'idx: {idx}, point: {newCentr}\\nidxlist: {idxlist}\\n')\n",
    "centr = np.vstack((centr,newCentr))\n",
    "\n",
    "print(f'centr.shape: {centr.shape},  newCentr.shape: {newCentr.shape}\\n\\ncentr:\\n{centr}')"
   ]
  },
  {
   "cell_type": "code",
   "execution_count": 27,
   "metadata": {},
   "outputs": [
    {
     "data": {
      "text/plain": [
       "[<matplotlib.lines.Line2D at 0x7f2e0f498070>]"
      ]
     },
     "execution_count": 27,
     "metadata": {},
     "output_type": "execute_result"
    },
    {
     "data": {
      "image/png": "[encoded data removed]",
      "text/plain": [
       "<Figure size 432x288 with 1 Axes>"
      ]
     },
     "metadata": {
      "needs_background": "light"
     },
     "output_type": "display_data"
    }
   ],
   "source": [
    "plt.scatter(data[:,0], data[:,1], marker='.', s=7, color = 'k');\n",
    "plt.plot(centr[:,0],centr[:,1],'*',c='r', markersize=10)"
   ]
  },
  {
   "cell_type": "code",
   "execution_count": 28,
   "metadata": {
    "tags": [
     "func"
    ]
   },
   "outputs": [],
   "source": [
    "def initPlus(data,k,seed=1):\n",
    "    data = data.copy()\n",
    "    np.random.seed(seed)\n",
    "    idx = np.random.randint(0,data.shape[0],1)[0]\n",
    "    centr = data[idx,:].reshape(1,-1)\n",
    "    data = np.delete(data,idx,axis=0)\n",
    "    idxlist = [idx]\n",
    "    \n",
    "    for i in range(k-1):\n",
    "        #print(f'\\n\\ni: {i} {20*\"=\"}')\n",
    "        #difference of coordinates of points and centroids (x-xi), (y-yi)\n",
    "        dif = (data - centr[:,np.newaxis])\n",
    "\n",
    "        #distance of each point from each centroid \n",
    "        dist = np.sum(dif**2,axis=-1).T\n",
    "\n",
    "        #sum of the distances of each point from all centroids\n",
    "        distSum = dist.sum(axis=-1).reshape(-1,1)\n",
    "        sum1 = distSum.sum()\n",
    "        prob = distSum/sum1\n",
    "\n",
    "        #the point with the greatest sum of distances\n",
    "        idx = np.argmax(prob)\n",
    "        idxlist.append(idx)\n",
    "        newCentr = data[idx]#,np.newaxis,:]\n",
    "\n",
    "        centr = np.vstack((centr,newCentr))  \n",
    "        data = np.delete(data,idx,axis=0)\n",
    "    print(idxlist)\n",
    "    return centr"
   ]
  },
  {
   "cell_type": "code",
   "execution_count": 29,
   "metadata": {},
   "outputs": [
    {
     "data": {
      "text/plain": [
       "((273, 2), (274, 2))"
      ]
     },
     "execution_count": 29,
     "metadata": {},
     "output_type": "execute_result"
    }
   ],
   "source": [
    "xx = np.delete(data,idx,axis=0)\n",
    "xx.shape, data.shape"
   ]
  },
  {
   "cell_type": "code",
   "execution_count": 30,
   "metadata": {
    "scrolled": false
   },
   "outputs": [
    {
     "name": "stdout",
     "output_type": "stream",
     "text": [
      "[111, 262, 172, 11, 66]\n",
      "centroids:\n",
      "[[0.89661206 0.47005189]\n",
      " [0.         0.79914026]\n",
      " [0.4310757  0.        ]\n",
      " [0.20514229 0.99191507]\n",
      " [0.9435397  0.24617288]]\n",
      "\n"
     ]
    },
    {
     "data": {
      "image/png": "[encoded data removed]",
      "text/plain": [
       "<Figure size 432x288 with 1 Axes>"
      ]
     },
     "metadata": {
      "needs_background": "light"
     },
     "output_type": "display_data"
    }
   ],
   "source": [
    "c = initPlus(data,k,seed)\n",
    "print(f'centroids:\\n{c}\\n')\n",
    "plt.scatter(data[:,0], data[:,1], marker='.', s=7, color = 'k');\n",
    "plt.plot(c[:,0],c[:,1],'*',c='r', markersize=10);"
   ]
  },
  {
   "cell_type": "markdown",
   "metadata": {},
   "source": [
    "# Visualisation\n",
    "\n",
    "A function `myScat()` will be created, the purpose of which will be to make charts:\n",
    ">- input scatter plot\n",
    ">- input data and created centroids (cluster centers)\n",
    ">- clustering result - data by groups and their centroids \n",
    "\n",
    "\n",
    "## Data input for scatter plot "
   ]
  },
  {
   "cell_type": "code",
   "execution_count": 31,
   "metadata": {},
   "outputs": [
    {
     "name": "stdout",
     "output_type": "stream",
     "text": [
      "[[0.12613597 0.92352409]\n",
      " [0.15949701 0.        ]\n",
      " [0.09481974 0.98424493]\n",
      " [0.         0.92459047]\n",
      " [0.06188055 0.82318247]\n",
      " [0.77121402 0.92505702]\n",
      " [1.         1.        ]\n",
      " [0.84932202 0.89007143]\n",
      " [0.58424644 0.85836453]\n",
      " [0.76373313 0.83659622]\n",
      " [0.36011294 0.98616304]\n",
      " [0.18645444 0.89251766]\n",
      " [0.48149902 0.69348109]\n",
      " [0.23732632 0.69501604]\n",
      " [0.27365912 0.69688657]]\n"
     ]
    },
    {
     "data": {
      "image/png": "[encoded data removed]",
      "text/plain": [
       "<Figure size 432x288 with 1 Axes>"
      ]
     },
     "metadata": {
      "needs_background": "light"
     },
     "output_type": "display_data"
    }
   ],
   "source": [
    "k=3\n",
    "data = dataTest(k,sx=0.5,sy=0.65,seed=571,samples=5)\n",
    "print(data)\n",
    "plt.scatter(data[:,0], data[:,1], marker='.', s=7, color = 'k');"
   ]
  },
  {
   "cell_type": "markdown",
   "metadata": {},
   "source": [
    "## Centroids"
   ]
  },
  {
   "cell_type": "code",
   "execution_count": 32,
   "metadata": {},
   "outputs": [
    {
     "name": "stdout",
     "output_type": "stream",
     "text": [
      "[[ 1.16410577  0.39120052]\n",
      " [ 0.42009143  0.2317832 ]\n",
      " [ 0.90178007 -0.19287022]]\n"
     ]
    },
    {
     "data": {
      "image/png": "[encoded data removed]",
      "text/plain": [
       "<Figure size 432x288 with 1 Axes>"
      ]
     },
     "metadata": {
      "needs_background": "light"
     },
     "output_type": "display_data"
    }
   ],
   "source": [
    "centr = initRandom(k,data)\n",
    "print(centr)\n",
    "plt.scatter(data[:,0], data[:,1], marker='.', s=7, color = 'k');\n",
    "plt.plot(centr[:,0],centr[:,1],'*',c='r', markersize=10);"
   ]
  },
  {
   "cell_type": "markdown",
   "metadata": {},
   "source": [
    "## Clustering result"
   ]
  },
  {
   "cell_type": "code",
   "execution_count": 33,
   "metadata": {},
   "outputs": [
    {
     "name": "stdout",
     "output_type": "stream",
     "text": [
      "shape: (15,)\n",
      "\n",
      "[1. 1. 1. 1. 1. 1. 2. 2. 2. 2. 2. 3. 3. 3. 3.]\n"
     ]
    }
   ],
   "source": [
    "# labels - no classes\n",
    "labels = np.ones(data.shape[0])\n",
    "labels[6:11] = 2\n",
    "labels[11:] = 3\n",
    "#labels = labels.reshape(labels.size,-1)\n",
    "print(f'shape: {labels.shape}\\n\\n{labels}')"
   ]
  },
  {
   "cell_type": "code",
   "execution_count": 34,
   "metadata": {},
   "outputs": [
    {
     "data": {
      "text/plain": [
       "array([[0.67573142, 0.04471218, 0.34330367],\n",
       "       [0.64401973, 0.284213  , 0.94933781],\n",
       "       [0.15767017, 0.38797296, 0.58999368]])"
      ]
     },
     "execution_count": 34,
     "metadata": {},
     "output_type": "execute_result"
    }
   ],
   "source": [
    "# colors\n",
    "np.random.seed(51)\n",
    "\n",
    "# np.random.rand() - random samples from a uniform distribution over ``[0, 1)``.\n",
    "colors = np.random.rand(k,3)\n",
    "colors"
   ]
  },
  {
   "cell_type": "code",
   "execution_count": 35,
   "metadata": {},
   "outputs": [
    {
     "name": "stdout",
     "output_type": "stream",
     "text": [
      "(15, 2) (15,)\n",
      "[[0.12613597 0.92352409]\n",
      " [0.15949701 0.        ]\n",
      " [0.09481974 0.98424493]\n",
      " [0.         0.92459047]\n",
      " [0.06188055 0.82318247]\n",
      " [0.77121402 0.92505702]] \n",
      "\n",
      "(15, 2) (15,)\n",
      "[[1.         1.        ]\n",
      " [0.84932202 0.89007143]\n",
      " [0.58424644 0.85836453]\n",
      " [0.76373313 0.83659622]\n",
      " [0.36011294 0.98616304]] \n",
      "\n",
      "(15, 2) (15,)\n",
      "[[0.18645444 0.89251766]\n",
      " [0.48149902 0.69348109]\n",
      " [0.23732632 0.69501604]\n",
      " [0.27365912 0.69688657]] \n",
      "\n"
     ]
    }
   ],
   "source": [
    "lab = np.unique(labels)\n",
    "for l in lab:\n",
    "    idx = labels == l\n",
    "    print(data.shape,idx.shape)\n",
    "    print(data[idx,:],'\\n')"
   ]
  },
  {
   "cell_type": "code",
   "execution_count": 36,
   "metadata": {},
   "outputs": [
    {
     "name": "stdout",
     "output_type": "stream",
     "text": [
      "0 1.0 [0.67573142 0.04471218 0.34330367]\n",
      "1 2.0 [0.64401973 0.284213   0.94933781]\n",
      "2 3.0 [0.15767017 0.38797296 0.58999368]\n"
     ]
    },
    {
     "data": {
      "image/png": "[encoded data removed]",
      "text/plain": [
       "<Figure size 432x288 with 1 Axes>"
      ]
     },
     "metadata": {
      "needs_background": "light"
     },
     "output_type": "display_data"
    }
   ],
   "source": [
    "lab = np.unique(labels)\n",
    "for i,l in enumerate(lab):\n",
    "    idx = labels == l\n",
    "    c = colors[i]\n",
    "    plt.scatter(data[idx,0], data[idx,1], marker='.', s=7, color = c);\n",
    "    plt.plot(centr[i,0],centr[i,1],'*',c='r', markersize=10)\n",
    "    print(i,l,c)"
   ]
  },
  {
   "cell_type": "markdown",
   "metadata": {},
   "source": [
    "## myScat() function"
   ]
  },
  {
   "cell_type": "code",
   "execution_count": 37,
   "metadata": {
    "tags": [
     "func"
    ]
   },
   "outputs": [],
   "source": [
    "def myScat(data,centroids=None,labels=None,size=5):\n",
    "    ''' Plot data.\n",
    "        Args:\n",
    "            - data:       np.array, rows -> samples, cols -> features\n",
    "            - centroids:  np.array,\n",
    "            - labels:     np.array, class labels, e.g. 0,1,2,...\n",
    "    '''\n",
    "    xy = data.copy()\n",
    "    \n",
    "    f = plt.figure(figsize=(size,size))\n",
    "    # plot raw data (black)\n",
    "    if centroids is None: \n",
    "        plt.scatter(xy[:,0], xy[:,1], marker='.', s=7, color = 'k')\n",
    "    \n",
    "    # plot raw data (black) and red centroids\n",
    "    elif centroids is not None and labels is None:\n",
    "        plt.scatter(xy[:, 0], xy[:, 1], marker='.', s=7, color = 'k')\n",
    "        plt.plot(centroids[:,0],centroids[:,1],'*',c='r',markersize=10)\n",
    "    \n",
    "    # plot data as colored clusters and red centroids\n",
    "    elif centroids is not None and labels is not None:\n",
    "        np.random.seed(444999)\n",
    "        colors = np.random.rand(k,3)\n",
    "        \n",
    "        lab = np.unique(labels)\n",
    "        for i,l in enumerate(lab):\n",
    "            idx = labels == l\n",
    "            c = colors[i]\n",
    "            plt.scatter(xy[idx,0], xy[idx,1], marker='.', s=7, color = c);\n",
    "        plt.plot(centroids[:,0],centroids[:,1],'*',c='r',markersize=10)\n"
   ]
  },
  {
   "cell_type": "code",
   "execution_count": 38,
   "metadata": {},
   "outputs": [
    {
     "data": {
      "image/png": "[encoded data removed]",
      "text/plain": [
       "<Figure size 360x360 with 1 Axes>"
      ]
     },
     "metadata": {
      "needs_background": "light"
     },
     "output_type": "display_data"
    }
   ],
   "source": [
    "myScat(data)"
   ]
  },
  {
   "cell_type": "code",
   "execution_count": 39,
   "metadata": {},
   "outputs": [
    {
     "data": {
      "image/png": "[encoded data removed]",
      "text/plain": [
       "<Figure size 360x360 with 1 Axes>"
      ]
     },
     "metadata": {
      "needs_background": "light"
     },
     "output_type": "display_data"
    }
   ],
   "source": [
    "myScat(data,centr)"
   ]
  },
  {
   "cell_type": "code",
   "execution_count": 40,
   "metadata": {},
   "outputs": [
    {
     "data": {
      "image/png": "[encoded data removed]",
      "text/plain": [
       "<Figure size 360x360 with 1 Axes>"
      ]
     },
     "metadata": {
      "needs_background": "light"
     },
     "output_type": "display_data"
    }
   ],
   "source": [
    "myScat(data,centr,labels)"
   ]
  },
  {
   "cell_type": "markdown",
   "metadata": {},
   "source": [
    "# `k-means` step by step\n",
    "\n",
    "Data with `k=5` clusters:"
   ]
  },
  {
   "cell_type": "code",
   "execution_count": 41,
   "metadata": {},
   "outputs": [
    {
     "name": "stdout",
     "output_type": "stream",
     "text": [
      "data.shape:      (15, 2)\n",
      "centroids.shape: (3, 2)\n",
      "\n",
      "data:\n",
      "[[0.28571344 0.        ]\n",
      " [0.22424482 0.09398456]\n",
      " [0.35528524 0.07373942]\n",
      " [0.         0.10654339]]\n",
      "\n",
      "centroids:\n",
      "[[ 0.30247124  0.52336582]\n",
      " [ 0.35549705  0.23824456]\n",
      " [ 0.48820652 -0.18950649]]\n"
     ]
    },
    {
     "data": {
      "image/png": "[encoded data removed]",
      "text/plain": [
       "<Figure size 360x360 with 1 Axes>"
      ]
     },
     "metadata": {
      "needs_background": "light"
     },
     "output_type": "display_data"
    }
   ],
   "source": [
    "# Data with visible clusters\n",
    "k=3\n",
    "seed = 15\n",
    "data = dataTest(k,sx=0.5,sy=0.65,seed=seed,samples=5)\n",
    "centr = initRandom(k,data,seed)\n",
    "print(f'data.shape:      {data.shape}\\ncentroids.shape: {centr.shape}\\n\\ndata:\\n{data[:4,:]}\\n\\ncentroids:\\n{centr}')\n",
    "myScat(data,centroids=centr)"
   ]
  },
  {
   "cell_type": "markdown",
   "metadata": {},
   "source": [
    "## Distance\n",
    "\n",
    "Calculating the distance of each pixel from each centroid:"
   ]
  },
  {
   "cell_type": "code",
   "execution_count": 42,
   "metadata": {},
   "outputs": [
    {
     "name": "stdout",
     "output_type": "stream",
     "text": [
      "(3, 15, 2)\n",
      "\n",
      "[[[2.80823788e-04 2.73911778e-01]\n",
      "  [6.11937155e-03 1.84368260e-01]\n",
      "  [2.78931926e-03 2.02163894e-01]\n",
      "  [9.14888490e-02 1.73740934e-01]\n",
      "  [3.37833886e-02 1.22552902e-01]\n",
      "  [9.78058848e-02 1.23497866e-01]\n",
      "  [2.70053119e-01 1.32315071e-01]\n",
      "  [1.47600915e-01 2.21987493e-01]\n",
      "  [4.86546376e-01 1.14646853e-01]\n",
      "  [2.85456292e-01 2.39912195e-01]\n",
      "  [2.47658880e-02 7.25787817e-02]\n",
      "  [9.19800076e-02 7.57288048e-02]\n",
      "  [9.98678217e-02 6.04738226e-02]\n",
      "  [7.80066237e-02 2.27180145e-01]\n",
      "  [7.39410540e-02 1.52511633e-01]]\n",
      "\n",
      " [[4.86975227e-03 5.67604697e-02]\n",
      "  [1.72271465e-02 2.08109460e-02]\n",
      "  [4.48618565e-08 2.70619395e-02]\n",
      "  [1.26378152e-01 1.73451974e-02]\n",
      "  [5.60876877e-02 4.21906211e-03]\n",
      "  [6.74511081e-02 4.39587205e-03]\n",
      "  [2.17753395e-01 6.18269698e-03]\n",
      "  [1.09668822e-01 3.46087344e-02]\n",
      "  [4.15384054e-01 2.85948507e-03]\n",
      "  [2.31606650e-01 4.18967954e-02]\n",
      "  [4.42671615e-02 3.07498811e-01]\n",
      "  [6.26281891e-02 3.13947217e-01]\n",
      "  [6.91652614e-02 2.81998720e-01]\n",
      "  [5.11984960e-02 5.80271353e-01]\n",
      "  [1.05590459e-01 4.56501081e-01]]\n",
      "\n",
      " [[4.10034481e-02 3.59127094e-02]\n",
      "  [6.96757769e-02 8.03671773e-02]\n",
      "  [1.76680660e-02 6.92984105e-02]\n",
      "  [2.38345607e-01 8.76455318e-02]\n",
      "  [1.36558233e-01 1.31621474e-01]\n",
      "  [1.61300263e-02 1.30645867e-01]\n",
      "  [1.11509960e-01 1.21885417e-01]\n",
      "  [3.93837368e-02 5.84270204e-02]\n",
      "  [2.61932566e-01 1.40083194e-01]\n",
      "  [1.21484185e-01 4.97575395e-02]\n",
      "  [1.17722481e-01 9.64867713e-01]\n",
      "  [1.38172445e-02 9.76264495e-01]\n",
      "  [1.69737698e-02 9.19271676e-01]\n",
      "  [8.75373093e-03 1.41492569e+00]\n",
      "  [2.09449314e-01 1.21749086e+00]]]\n"
     ]
    }
   ],
   "source": [
    "dif = (data - centr[:,np.newaxis])**2\n",
    "print(f'{dif.shape}\\n\\n{dif}')"
   ]
  },
  {
   "cell_type": "code",
   "execution_count": 43,
   "metadata": {
    "scrolled": false
   },
   "outputs": [
    {
     "name": "stdout",
     "output_type": "stream",
     "text": [
      "(15, 3)\n",
      "\n",
      "[[0.52363403 0.24825435 0.27733762]\n",
      " [0.43644889 0.19503357 0.38735378]\n",
      " [0.45271759 0.16450527 0.29490079]\n",
      " [0.51500464 0.37910862 0.57095634]\n",
      " [0.39539384 0.24557433 0.5178607 ]\n",
      " [0.47042933 0.26804287 0.38311342]\n",
      " [0.63432499 0.47321886 0.48311011]\n",
      " [0.60793783 0.37983886 0.31274711]\n",
      " [0.77536651 0.64671751 0.63404713]\n",
      " [0.72482307 0.52297557 0.41381363]\n",
      " [0.31200107 0.59309862 1.04047595]\n",
      " [0.40952266 0.6136574  0.99502851]\n",
      " [0.40042683 0.59259091 0.96759777]\n",
      " [0.55243712 0.79465077 1.19318038]\n",
      " [0.47587045 0.74972764 1.19454601]]\n"
     ]
    }
   ],
   "source": [
    "#data - centr --> error dimension\n",
    "distance = (dif.sum(axis=2)**0.5).T\n",
    "print(f'{distance.shape}\\n\\n{distance}')"
   ]
  },
  {
   "cell_type": "code",
   "execution_count": 44,
   "metadata": {
    "tags": [
     "func"
    ]
   },
   "outputs": [],
   "source": [
    "def myDistance(ar,centroid):\n",
    "    ''' Args:\n",
    "            - ar:        np.array, rows -> samples, cols -> features\n",
    "            - centroid:  array, (k,n_bands), k - number of class \n",
    "    '''\n",
    "    ar = ar.copy()\n",
    "    c = centroid.copy()\n",
    "    diff = (ar - c[:,np.newaxis])**2\n",
    "    distance = (np.sum(diff,axis=2))**0.5\n",
    "    return distance.T"
   ]
  },
  {
   "cell_type": "code",
   "execution_count": 45,
   "metadata": {},
   "outputs": [
    {
     "name": "stdout",
     "output_type": "stream",
     "text": [
      "(15, 3)\n",
      "\n",
      "[[0.52363403 0.24825435 0.27733762]\n",
      " [0.43644889 0.19503357 0.38735378]\n",
      " [0.45271759 0.16450527 0.29490079]\n",
      " [0.51500464 0.37910862 0.57095634]\n",
      " [0.39539384 0.24557433 0.5178607 ]\n",
      " [0.47042933 0.26804287 0.38311342]\n",
      " [0.63432499 0.47321886 0.48311011]\n",
      " [0.60793783 0.37983886 0.31274711]\n",
      " [0.77536651 0.64671751 0.63404713]\n",
      " [0.72482307 0.52297557 0.41381363]\n",
      " [0.31200107 0.59309862 1.04047595]\n",
      " [0.40952266 0.6136574  0.99502851]\n",
      " [0.40042683 0.59259091 0.96759777]\n",
      " [0.55243712 0.79465077 1.19318038]\n",
      " [0.47587045 0.74972764 1.19454601]]\n"
     ]
    }
   ],
   "source": [
    "distance = myDistance(data,centr)\n",
    "print(f'{distance.shape}\\n\\n{distance}')"
   ]
  },
  {
   "cell_type": "markdown",
   "metadata": {},
   "source": [
    "## Labels\n",
    "\n",
    ">Establish a cluster label for each point:\n",
    ">- searching for the smallest distances from centroids\n",
    ">- the cluster number is based on the centroid index\n",
    ">- centroid indexes start at 0\n",
    ">- cluster numbers start with 1\n",
    ">- the cluster number is the centroid index plus 1 "
   ]
  },
  {
   "cell_type": "code",
   "execution_count": 46,
   "metadata": {},
   "outputs": [
    {
     "name": "stdout",
     "output_type": "stream",
     "text": [
      "idx:    [1 1 1 1 1 1 1 2 2 2 0 0 0 0 0]\n",
      "labels: [2 2 2 2 2 2 2 3 3 3 1 1 1 1 1]\n"
     ]
    }
   ],
   "source": [
    "idx = np.argmin(distance,axis=1)\n",
    "labels = idx+1\n",
    "print(f'idx:    {idx}\\nlabels: {labels}')"
   ]
  },
  {
   "cell_type": "code",
   "execution_count": 47,
   "metadata": {},
   "outputs": [
    {
     "data": {
      "text/html": [
       "<div>\n",
       "<style scoped>\n",
       "    .dataframe tbody tr th:only-of-type {\n",
       "        vertical-align: middle;\n",
       "    }\n",
       "\n",
       "    .dataframe tbody tr th {\n",
       "        vertical-align: top;\n",
       "    }\n",
       "\n",
       "    .dataframe thead th {\n",
       "        text-align: right;\n",
       "    }\n",
       "</style>\n",
       "<table border=\"1\" class=\"dataframe\">\n",
       "  <thead>\n",
       "    <tr style=\"text-align: right;\">\n",
       "      <th></th>\n",
       "      <th>c1</th>\n",
       "      <th>c2</th>\n",
       "      <th>c3</th>\n",
       "      <th>select</th>\n",
       "    </tr>\n",
       "  </thead>\n",
       "  <tbody>\n",
       "    <tr>\n",
       "      <th>0</th>\n",
       "      <td>0.523634</td>\n",
       "      <td>0.248254</td>\n",
       "      <td>0.277338</td>\n",
       "      <td>0.248254</td>\n",
       "    </tr>\n",
       "    <tr>\n",
       "      <th>1</th>\n",
       "      <td>0.436449</td>\n",
       "      <td>0.195034</td>\n",
       "      <td>0.387354</td>\n",
       "      <td>0.195034</td>\n",
       "    </tr>\n",
       "    <tr>\n",
       "      <th>2</th>\n",
       "      <td>0.452718</td>\n",
       "      <td>0.164505</td>\n",
       "      <td>0.294901</td>\n",
       "      <td>0.164505</td>\n",
       "    </tr>\n",
       "    <tr>\n",
       "      <th>3</th>\n",
       "      <td>0.515005</td>\n",
       "      <td>0.379109</td>\n",
       "      <td>0.570956</td>\n",
       "      <td>0.379109</td>\n",
       "    </tr>\n",
       "    <tr>\n",
       "      <th>4</th>\n",
       "      <td>0.395394</td>\n",
       "      <td>0.245574</td>\n",
       "      <td>0.517861</td>\n",
       "      <td>0.245574</td>\n",
       "    </tr>\n",
       "    <tr>\n",
       "      <th>5</th>\n",
       "      <td>0.470429</td>\n",
       "      <td>0.268043</td>\n",
       "      <td>0.383113</td>\n",
       "      <td>0.268043</td>\n",
       "    </tr>\n",
       "    <tr>\n",
       "      <th>6</th>\n",
       "      <td>0.634325</td>\n",
       "      <td>0.473219</td>\n",
       "      <td>0.483110</td>\n",
       "      <td>0.473219</td>\n",
       "    </tr>\n",
       "    <tr>\n",
       "      <th>7</th>\n",
       "      <td>0.607938</td>\n",
       "      <td>0.379839</td>\n",
       "      <td>0.312747</td>\n",
       "      <td>0.312747</td>\n",
       "    </tr>\n",
       "    <tr>\n",
       "      <th>8</th>\n",
       "      <td>0.775367</td>\n",
       "      <td>0.646718</td>\n",
       "      <td>0.634047</td>\n",
       "      <td>0.634047</td>\n",
       "    </tr>\n",
       "    <tr>\n",
       "      <th>9</th>\n",
       "      <td>0.724823</td>\n",
       "      <td>0.522976</td>\n",
       "      <td>0.413814</td>\n",
       "      <td>0.413814</td>\n",
       "    </tr>\n",
       "    <tr>\n",
       "      <th>10</th>\n",
       "      <td>0.312001</td>\n",
       "      <td>0.593099</td>\n",
       "      <td>1.040476</td>\n",
       "      <td>0.312001</td>\n",
       "    </tr>\n",
       "    <tr>\n",
       "      <th>11</th>\n",
       "      <td>0.409523</td>\n",
       "      <td>0.613657</td>\n",
       "      <td>0.995029</td>\n",
       "      <td>0.409523</td>\n",
       "    </tr>\n",
       "    <tr>\n",
       "      <th>12</th>\n",
       "      <td>0.400427</td>\n",
       "      <td>0.592591</td>\n",
       "      <td>0.967598</td>\n",
       "      <td>0.400427</td>\n",
       "    </tr>\n",
       "    <tr>\n",
       "      <th>13</th>\n",
       "      <td>0.552437</td>\n",
       "      <td>0.794651</td>\n",
       "      <td>1.193180</td>\n",
       "      <td>0.552437</td>\n",
       "    </tr>\n",
       "    <tr>\n",
       "      <th>14</th>\n",
       "      <td>0.475870</td>\n",
       "      <td>0.749728</td>\n",
       "      <td>1.194546</td>\n",
       "      <td>0.475870</td>\n",
       "    </tr>\n",
       "  </tbody>\n",
       "</table>\n",
       "</div>"
      ],
      "text/plain": [
       "          c1        c2        c3    select\n",
       "0   0.523634  0.248254  0.277338  0.248254\n",
       "1   0.436449  0.195034  0.387354  0.195034\n",
       "2   0.452718  0.164505  0.294901  0.164505\n",
       "3   0.515005  0.379109  0.570956  0.379109\n",
       "4   0.395394  0.245574  0.517861  0.245574\n",
       "5   0.470429  0.268043  0.383113  0.268043\n",
       "6   0.634325  0.473219  0.483110  0.473219\n",
       "7   0.607938  0.379839  0.312747  0.312747\n",
       "8   0.775367  0.646718  0.634047  0.634047\n",
       "9   0.724823  0.522976  0.413814  0.413814\n",
       "10  0.312001  0.593099  1.040476  0.312001\n",
       "11  0.409523  0.613657  0.995029  0.409523\n",
       "12  0.400427  0.592591  0.967598  0.400427\n",
       "13  0.552437  0.794651  1.193180  0.552437\n",
       "14  0.475870  0.749728  1.194546  0.475870"
      ]
     },
     "execution_count": 47,
     "metadata": {},
     "output_type": "execute_result"
    }
   ],
   "source": [
    "# checking the correctness of the selection of the minimum values\n",
    "rowsList = list(range(distance.shape[0]))\n",
    "selected = distance[rowsList,idx]\n",
    "pd.DataFrame(np.c_[distance,selected],columns=['c1','c2','c3','select'])\n"
   ]
  },
  {
   "cell_type": "markdown",
   "metadata": {},
   "source": [
    "## New centroids\n",
    ">- calculation of mean values in clusters\n",
    ">- mean values become new centroids "
   ]
  },
  {
   "cell_type": "code",
   "execution_count": 48,
   "metadata": {},
   "outputs": [
    {
     "data": {
      "text/plain": [
       "array([[0.39633215, 0.85489961],\n",
       "       [0.34589433, 0.11130218],\n",
       "       [0.84113741, 0.09017941]])"
      ]
     },
     "execution_count": 48,
     "metadata": {},
     "output_type": "execute_result"
    }
   ],
   "source": [
    "newCentroid = []\n",
    "for i,l in enumerate(np.unique(idx)):\n",
    "    idd = idx == l\n",
    "    \n",
    "    # new centroids\n",
    "    newCentroid.append(data[idd].mean(axis=0).tolist())\n",
    "\n",
    "newCentroid = np.array(newCentroid)\n",
    "newCentroid"
   ]
  },
  {
   "cell_type": "code",
   "execution_count": 49,
   "metadata": {},
   "outputs": [
    {
     "data": {
      "text/plain": [
       "array([[0.39633215, 0.85489961],\n",
       "       [0.34589433, 0.11130218],\n",
       "       [0.84113741, 0.09017941]])"
      ]
     },
     "execution_count": 49,
     "metadata": {},
     "output_type": "execute_result"
    }
   ],
   "source": [
    "# alternative way\n",
    "np.array([data[idx==l].mean(axis=0).tolist() for l in np.unique(idx)])"
   ]
  },
  {
   "cell_type": "code",
   "execution_count": 50,
   "metadata": {},
   "outputs": [
    {
     "data": {
      "text/plain": [
       "<matplotlib.collections.PathCollection at 0x7f2e0f364640>"
      ]
     },
     "execution_count": 50,
     "metadata": {},
     "output_type": "execute_result"
    },
    {
     "data": {
      "image/png": "[encoded data removed]",
      "text/plain": [
       "<Figure size 360x360 with 1 Axes>"
      ]
     },
     "metadata": {
      "needs_background": "light"
     },
     "output_type": "display_data"
    }
   ],
   "source": [
    "myScat(data,newCentroid,labels)\n",
    "plt.scatter(centr[:,0],centr[:,1],c='k')"
   ]
  },
  {
   "cell_type": "markdown",
   "metadata": {},
   "source": [
    "## myKmeans() function"
   ]
  },
  {
   "cell_type": "code",
   "execution_count": 51,
   "metadata": {
    "tags": [
     "func"
    ]
   },
   "outputs": [],
   "source": [
    "def myKmeans(data,k,n=10,seed=1):\n",
    "    ''' Args:\n",
    "            - data:   np.array, rows -> samples, cols -> features\n",
    "            - k:      noumber of classes / centriods\n",
    "            - n:      int, iterations number\n",
    "            - init:   int of (1,2,3) - selecting the centroid initiation algorithm:\n",
    "                      - 3: `k-means++` method (maximising the distance between centroids)\n",
    "                      - 2: random selection of centroids\n",
    "                      - 1: random generation of centroids\n",
    "\n",
    "    '''\n",
    "    data = data.copy()\n",
    "    centr = initRandom(k,data,seed)\n",
    "    centInit = centr.copy()\n",
    "        \n",
    "    with np.errstate(divide='ignore', invalid='ignore'):\n",
    "    \n",
    "        for it in range(n):\n",
    "            distance = myDistance(data,centr)\n",
    "            idx = np.argmin(distance,axis=1)\n",
    "            labels = idx + 1\n",
    "            \n",
    "            centOld = centr.copy()\n",
    "            centr = [data[idx==i].mean(axis=0) for i in np.unique(idx)]\n",
    "            centr = np.array(centr)\n",
    "        \n",
    "    return centr,labels,centInit\n"
   ]
  },
  {
   "cell_type": "code",
   "execution_count": 52,
   "metadata": {},
   "outputs": [
    {
     "data": {
      "text/plain": [
       "<matplotlib.collections.PathCollection at 0x7f2e11722250>"
      ]
     },
     "execution_count": 52,
     "metadata": {},
     "output_type": "execute_result"
    },
    {
     "data": {
      "image/png": "[encoded data removed]",
      "text/plain": [
       "<Figure size 360x360 with 1 Axes>"
      ]
     },
     "metadata": {
      "needs_background": "light"
     },
     "output_type": "display_data"
    }
   ],
   "source": [
    "# test\n",
    "seed = 15\n",
    "cen,labels,cin = myKmeans(data,k,n=100,seed=seed)\n",
    "#print(f'{cen}\\n\\n{labels}\\n\\n{cin}')\n",
    "myScat(data,cen,labels)\n",
    "plt.scatter(cin[:,0],cin[:,1],c='k')"
   ]
  },
  {
   "cell_type": "markdown",
   "metadata": {},
   "source": [
    "# K-maens tests on various data\n",
    "\n",
    "## Data without visible clusters"
   ]
  },
  {
   "cell_type": "code",
   "execution_count": 53,
   "metadata": {},
   "outputs": [
    {
     "data": {
      "image/png": "[encoded data removed]",
      "text/plain": [
       "<Figure size 432x432 with 1 Axes>"
      ]
     },
     "metadata": {
      "needs_background": "light"
     },
     "output_type": "display_data"
    }
   ],
   "source": [
    "k = 5\n",
    "seed=571\n",
    "data = dataTest(k,sx=0.5,sy=0.65,seed=seed,samples=55,uniform=1)\n",
    "cen,labels,cin = myKmeans(data,k,n=100,seed=seed)\n",
    "\n",
    "myScat(data,cen,labels,6)\n",
    "plt.scatter(cin[:,0],cin[:,1],c='k');"
   ]
  },
  {
   "cell_type": "markdown",
   "metadata": {},
   "source": [
    "## Data with visible clusters"
   ]
  },
  {
   "cell_type": "code",
   "execution_count": 54,
   "metadata": {},
   "outputs": [
    {
     "data": {
      "image/png": "[encoded data removed]",
      "text/plain": [
       "<Figure size 432x432 with 1 Axes>"
      ]
     },
     "metadata": {
      "needs_background": "light"
     },
     "output_type": "display_data"
    }
   ],
   "source": [
    "data = dataTest(k,sx=0.5,sy=0.65,seed=seed,samples=55)\n",
    "cen,labels,cin = myKmeans(data,k,n=100,seed=seed)\n",
    "\n",
    "myScat(data,cen,labels,6)\n",
    "plt.scatter(cin[:,0],cin[:,1],c='k');"
   ]
  },
  {
   "cell_type": "markdown",
   "metadata": {},
   "source": [
    "## Data forming circular patterns"
   ]
  },
  {
   "cell_type": "code",
   "execution_count": 55,
   "metadata": {},
   "outputs": [
    {
     "data": {
      "image/png": "[encoded data removed]",
      "text/plain": [
       "<Figure size 432x432 with 1 Axes>"
      ]
     },
     "metadata": {
      "needs_background": "light"
     },
     "output_type": "display_data"
    }
   ],
   "source": [
    "data = circleData(n=5,npi=1.3,samples=500,scale=0.2)\n",
    "cen,labels,cin = myKmeans(data,k,n=100,seed=seed)\n",
    "\n",
    "myScat(data,cen,labels,6)\n",
    "plt.scatter(cin[:,0],cin[:,1],c='k');"
   ]
  }
 ],
 "metadata": {
  "hide_input": false,
  "kernelspec": {
   "display_name": "Python [conda env:lab2]",
   "language": "python",
   "name": "conda-env-lab2-py"
  },
  "language_info": {
   "codemirror_mode": {
    "name": "ipython",
    "version": 3
   },
   "file_extension": ".py",
   "mimetype": "text/x-python",
   "name": "python",
   "nbconvert_exporter": "python",
   "pygments_lexer": "ipython3",
   "version": "3.7.10"
  },
  "latex_envs": {
   "LaTeX_envs_menu_present": true,
   "autoclose": false,
   "autocomplete": true,
   "bibliofile": "biblio.bib",
   "cite_by": "apalike",
   "current_citInitial": 1,
   "eqLabelWithNumbers": true,
   "eqNumInitial": 1,
   "hotkeys": {
    "equation": "Ctrl-E",
    "itemize": "Ctrl-I"
   },
   "labels_anchors": false,
   "latex_user_defs": false,
   "report_style_numbering": false,
   "user_envs_cfg": false
  },
  "nbTranslate": {
   "displayLangs": [
    "*"
   ],
   "hotkey": "alt-t",
   "langInMainMenu": true,
   "sourceLang": "en",
   "targetLang": "fr",
   "useGoogleTranslate": true
  },
  "toc": {
   "base_numbering": 1,
   "nav_menu": {},
   "number_sections": true,
   "sideBar": true,
   "skip_h1_title": false,
   "title_cell": "Table of Contents",
   "title_sidebar": "Contents",
   "toc_cell": false,
   "toc_position": {
    "height": "calc(100% - 180px)",
    "left": "10px",
    "top": "150px",
    "width": "276.559px"
   },
   "toc_section_display": true,
   "toc_window_display": true
  }
 },
 "nbformat": 4,
 "nbformat_minor": 4
}
