{
 "cells": [
  {
   "cell_type": "markdown",
   "id": "cf7fa0c5",
   "metadata": {},
   "source": [
    "# Sentinel images\n",
    "\n",
    "Preparing Sentinel-2 images includes two laboratories, each carried out in a separate notebook:\n",
    "- sentinel1.ipynb - downloading images via python\n",
    "- sentinel2.ipynb - image preprocessing: creating a `Geotif` file from selected image channels \n",
    "\n",
    "\n",
    "\n",
    "Downloading Sentinal images requires:\n",
    ">- product type selection: `S2`\n",
    ">- filtering images due to cloudiness: `cloudcoverpercentage=(0, 20)`\n",
    ">- definition of the area of interest\n",
    "\n",
    "\n",
    "\n",
    "# New environment \n",
    "\n",
    "Create a new environment to handle Sentinel images - e.g. `sen`. Necessary packages:\n",
    ">- numpy, pandas, matplotlib\n",
    ">- rasterio\n",
    "> -geopy, geojson, shapely\n",
    ">- sentinelsat\n",
    ">- utm\n",
    ">- ipyleaflet"
   ]
  },
  {
   "cell_type": "code",
   "execution_count": 1,
   "id": "eebc6ea3",
   "metadata": {},
   "outputs": [],
   "source": [
    "import numpy as np\n",
    "import pandas as pd\n",
    "from geopy.geocoders import Nominatim\n",
    "import geojson\n",
    "from shapely import geometry\n",
    "from sentinelsat import SentinelAPI\n",
    "from datetime import date\n",
    "import utm\n",
    "from ipyleaflet import Map, Marker, basemaps, basemap_to_tiles\n",
    "from ipyleaflet import Polygon as ipylPolygon"
   ]
  },
  {
   "cell_type": "code",
   "execution_count": 2,
   "id": "e6ae7c28",
   "metadata": {},
   "outputs": [],
   "source": [
    "user = 'Puchatek',\n",
    "passw = '!scihub.copernicus.eu!'"
   ]
  },
  {
   "cell_type": "markdown",
   "id": "293dd144",
   "metadata": {},
   "source": [
    "# Area of interest\n",
    "\n",
    "Determining the area of interest will be performed by:\n",
    ">- selection of the place (city) and acquiring its geographic coordinates. The selected city will be the central point of the area of interest.\n",
    ">- conversions of the central point coordinates to the UTM coordinate system (map layout in meters)\n",
    ">- determination of coordinates of the square corners that will determine the area of interest around the central point\n",
    "\n",
    "## Coordinates of the selected city \n",
    "`geopy` module - get location\n",
    "\n",
    ">- the `geopy` module searches for geographical coordinates of the city based on Internet services, eg OpenStreet Map, Google Maps, etc.\n",
    ">- search requires the name of the country and city names\n",
    ">- documentation of the [geopy module](https://geopy.readthedocs.io/en/stable/) "
   ]
  },
  {
   "cell_type": "code",
   "execution_count": 3,
   "id": "0c28ba92",
   "metadata": {},
   "outputs": [],
   "source": [
    "address={'country':'Poland','city':'Swornegacie'}  # my cities\n",
    "geolocator = Nominatim(user_agent=\"Pio\")"
   ]
  },
  {
   "cell_type": "code",
   "execution_count": 4,
   "id": "fb1e8ab8",
   "metadata": {},
   "outputs": [
    {
     "data": {
      "text/plain": [
       "geopy.location.Location"
      ]
     },
     "execution_count": 4,
     "metadata": {},
     "output_type": "execute_result"
    }
   ],
   "source": [
    "location = geolocator.geocode(address)\n",
    "type(location)"
   ]
  },
  {
   "cell_type": "code",
   "execution_count": 5,
   "id": "a2345026",
   "metadata": {},
   "outputs": [
    {
     "data": {
      "text/plain": [
       "(53.8604117, 17.4991394)"
      ]
     },
     "execution_count": 5,
     "metadata": {},
     "output_type": "execute_result"
    }
   ],
   "source": [
    "location.latitude, location.longitude"
   ]
  },
  {
   "cell_type": "markdown",
   "id": "5ff6d83f",
   "metadata": {},
   "source": [
    "## Coordinate conversion\n",
    "\n",
    "The `utm` module allows you to convert coordinates between coordinate systems:\n",
    ">- from geographic coordinates to `utm` system\n",
    ">- from `utm` system to geographical coordinates\n",
    ">- [utm documentation](https://github.com/Turbo87/utm)"
   ]
  },
  {
   "cell_type": "code",
   "execution_count": 6,
   "id": "2e0425d9",
   "metadata": {
    "scrolled": true
   },
   "outputs": [
    {
     "name": "stdout",
     "output_type": "stream",
     "text": [
      "664349.16 5970886.59\n"
     ]
    }
   ],
   "source": [
    "# from geographic coordinates to utm system\n",
    "x,y, zone, zoneLetter = utm.from_latlon(location.latitude, location.longitude)\n",
    "x = round(x,2)\n",
    "y = round(y,2)\n",
    "print(x,y)"
   ]
  },
  {
   "cell_type": "markdown",
   "id": "a88cfc3a",
   "metadata": {},
   "source": [
    "## Corners of the area of interest \n",
    "\n",
    ">- determining the area of interest by calculating coordinates of the corners of the area\n",
    ">- coordinates calculated in the `utm` system\n",
    ">- `offset` - distance of each corner from the central point\n",
    ">- the distance along the axis `ox` and `oy` are the same\n",
    ">- corners must be ordered so that they create a line defining area, e.g. according to the clockwise direction "
   ]
  },
  {
   "cell_type": "code",
   "execution_count": 7,
   "id": "c7009a54",
   "metadata": {},
   "outputs": [
    {
     "data": {
      "text/plain": [
       "[(649349.16, 5985886.59),\n",
       " (679349.16, 5985886.59),\n",
       " (679349.16, 5955886.59),\n",
       " (649349.16, 5955886.59)]"
      ]
     },
     "execution_count": 7,
     "metadata": {},
     "output_type": "execute_result"
    }
   ],
   "source": [
    "# 15 km\n",
    "offset = 15 * 1000\n",
    "\n",
    "upl = (x-offset, y+offset) # upper left\n",
    "upr = (x+offset, y+offset) # upper right\n",
    "\n",
    "\n",
    "dwr = (x+offset, y-offset) # down right\n",
    "dwl = (x-offset, y-offset) # down left\n",
    "\n",
    "# clockwise direction\n",
    "utmCoord = [upl,upr,dwr,dwl]\n",
    "utmCoord "
   ]
  },
  {
   "cell_type": "code",
   "execution_count": 8,
   "id": "ae483b73",
   "metadata": {},
   "outputs": [
    {
     "data": {
      "text/plain": [
       "[[17.278583, 53.9996571],\n",
       " [17.735758, 53.9901152],\n",
       " [17.7182349, 53.7207768],\n",
       " [17.2639815, 53.7302255]]"
      ]
     },
     "execution_count": 8,
     "metadata": {},
     "output_type": "execute_result"
    }
   ],
   "source": [
    "geoCoord = []\n",
    "for p in utmCoord:\n",
    "    lat, lon = utm.to_latlon(*p,zone,zoneLetter)\n",
    "    geoCoord.append([round(lon,7),round(lat,7)])\n",
    "\n",
    "geoCoord"
   ]
  },
  {
   "cell_type": "code",
   "execution_count": 9,
   "id": "ef13a16c",
   "metadata": {},
   "outputs": [
    {
     "data": {
      "text/plain": [
       "array([[17.278583 , 53.9996571],\n",
       "       [17.735758 , 53.9901152],\n",
       "       [17.7182349, 53.7207768],\n",
       "       [17.2639815, 53.7302255]])"
      ]
     },
     "execution_count": 9,
     "metadata": {},
     "output_type": "execute_result"
    }
   ],
   "source": [
    "xx = np.array(geoCoord)\n",
    "xx"
   ]
  },
  {
   "cell_type": "code",
   "execution_count": 10,
   "id": "30d18bb0",
   "metadata": {},
   "outputs": [
    {
     "data": {
      "text/plain": [
       "array([[53.7302255, 17.2639815],\n",
       "       [53.7207768, 17.7182349],\n",
       "       [53.9901152, 17.735758 ],\n",
       "       [53.9996571, 17.278583 ]])"
      ]
     },
     "execution_count": 10,
     "metadata": {},
     "output_type": "execute_result"
    }
   ],
   "source": [
    "np.flip(xx)"
   ]
  },
  {
   "cell_type": "markdown",
   "id": "a39b8b8a",
   "metadata": {},
   "source": [
    "## Creating a polygon\n",
    "\n",
    ">- `shapely` module: manipulation and analysis of geometric objects in the Cartesian plane.\n",
    ">- [shapely documentation](https://shapely.readthedocs.io/en/latest/)\n",
    "\n",
    "From https://github.com/Toblerity/Shapely:\n",
    ">''Shapely is a BSD-licensed Python package for manipulation and analysis of planar geometric objects. It is based on the widely deployed GEOS (the engine of PostGIS) and JTS (from which GEOS is ported) libraries. Shapely is not concerned with data formats or coordinate systems, but can be readily integrated with packages that are.''"
   ]
  },
  {
   "cell_type": "code",
   "execution_count": 11,
   "id": "c7588b2f",
   "metadata": {},
   "outputs": [
    {
     "data": {
      "image/svg+xml": [
       "<svg xmlns=\"http://www.w3.org/2000/svg\" xmlns:xlink=\"http://www.w3.org/1999/xlink\" width=\"100.0\" height=\"100.0\" viewBox=\"17.24511044 53.70190574 0.5095186199999979 0.3166224200000016\" preserveAspectRatio=\"xMinYMin meet\"><g transform=\"matrix(1,0,0,-1,0,107.7204339)\"><path fill-rule=\"evenodd\" fill=\"#66cc99\" stroke=\"#555555\" stroke-width=\"0.010190372399999958\" opacity=\"0.6\" d=\"M 17.278583,53.9996571 L 17.735758,53.9901152 L 17.7182349,53.7207768 L 17.2639815,53.7302255 L 17.278583,53.9996571 z\" /></g></svg>"
      ],
      "text/plain": [
       "<shapely.geometry.polygon.PolygonAdapter at 0x7f4004e83790>"
      ]
     },
     "execution_count": 11,
     "metadata": {},
     "output_type": "execute_result"
    }
   ],
   "source": [
    "geoPolygon = geometry.asPolygon(geoCoord)\n",
    "geoPolygon"
   ]
  },
  {
   "cell_type": "code",
   "execution_count": 12,
   "id": "73a4d20f",
   "metadata": {
    "scrolled": true
   },
   "outputs": [
    {
     "data": {
      "text/plain": [
       "'POLYGON ((17.2785830000000011 53.9996571000000003, 17.7357580000000006 53.9901151999999982, 17.7182348999999988 53.7207768000000030, 17.2639814999999999 53.7302255000000031, 17.2785830000000011 53.9996571000000003))'"
      ]
     },
     "execution_count": 12,
     "metadata": {},
     "output_type": "execute_result"
    }
   ],
   "source": [
    "geoPolygon.to_wkt()"
   ]
  },
  {
   "cell_type": "markdown",
   "id": "4bd8d3bc",
   "metadata": {},
   "source": [
    "# ipyleaflet - display the map\n",
    "\n",
    ">- A Jupyter / Leaflet bridge enabling interactive maps in the Jupyter notebook.\n",
    ">- [ipyleaflet documentation](https://ipyleaflet.readthedocs.io/en/latest/)\n",
    "\n",
    "## The order of geographical coordinates\n",
    "\n",
    "Displaying the polygon on the map requires:\n",
    ">- list of vertex locations (in lat/long)\n",
    ">- `geoCoord` coordinates are ordered by reverse (in long/lat)\n",
    "\n",
    "Sample solution:\n",
    ">- convert the `geoCoord` list to the numpy array\n",
    ">- flip numpy arra and conversion to the list "
   ]
  },
  {
   "cell_type": "code",
   "execution_count": 13,
   "id": "5297620a",
   "metadata": {
    "scrolled": true
   },
   "outputs": [
    {
     "data": {
      "application/vnd.jupyter.widget-view+json": {
       "model_id": "a0c0c646f775458c8aedf00c1c4576e0",
       "version_major": 2,
       "version_minor": 0
      },
      "text/plain": [
       "Map(center=[53.8604117, 17.4991394], controls=(ZoomControl(options=['position', 'zoom_in_text', 'zoom_in_title…"
      ]
     },
     "metadata": {},
     "output_type": "display_data"
    }
   ],
   "source": [
    "latlon = (location.latitude,location.longitude)\n",
    "\n",
    "# flipping geoCoord\n",
    "coord = np.array(geoCoord)\n",
    "coord = np.flip(coord).tolist()\n",
    "\n",
    "m = Map(\n",
    "    basemap=basemap_to_tiles(basemaps.Esri.WorldTopoMap, \"2021-05-08\"),\n",
    "    center=(latlon[0],latlon[1]),\n",
    "    zoom=10\n",
    ")\n",
    "\n",
    "m.add_layer(Marker(location=latlon))\n",
    "area = ipylPolygon(locations=coord,color='red',fill_opacity= 0.1,weight=2)\n",
    "m.add_layer(area)\n",
    "m"
   ]
  },
  {
   "cell_type": "code",
   "execution_count": 14,
   "id": "7335b4fa",
   "metadata": {},
   "outputs": [
    {
     "data": {
      "text/plain": [
       "[[17.278583, 53.9996571],\n",
       " [17.735758, 53.9901152],\n",
       " [17.7182349, 53.7207768],\n",
       " [17.2639815, 53.7302255]]"
      ]
     },
     "execution_count": 14,
     "metadata": {},
     "output_type": "execute_result"
    }
   ],
   "source": [
    "geoCoord"
   ]
  },
  {
   "cell_type": "markdown",
   "id": "52f0d986",
   "metadata": {},
   "source": [
    "# sentinelsat - download image\n",
    "\n",
    "From https://pypi.org/project/sentinelsat/:\n",
    ">\"Sentinelsat makes searching, downloading and retrieving the metadata of Sentinel satellite images from the Copernicus Open Access Hub easy.\"\n",
    "\n",
    ">- [sentinelsat documentation](https://sentinelsat.readthedocs.io/en/master/api_overview.html)\n",
    "\n",
    "## Authentication\n",
    "The Copernicus Open Access Hub and probably most Data Hubs require authentication. You can provide your credentials with `SentinelAPI(<your username>, <your password>)`."
   ]
  },
  {
   "cell_type": "code",
   "execution_count": 15,
   "id": "aadbc25d",
   "metadata": {},
   "outputs": [],
   "source": [
    "api = SentinelAPI('your username', 'your password', 'https://scihub.copernicus.eu/dhus')"
   ]
  },
  {
   "cell_type": "markdown",
   "id": "5eddef0d",
   "metadata": {},
   "source": [
    "## Query\n",
    "\n",
    "**Creating a query**:  \n",
    "- https://sentinelsat.readthedocs.io/en/master/api_reference.html?highlight=query#sentinelsat.sentinel.SentinelAPI.format_query\n",
    "\n",
    ">`query(area=None, date=None, raw=None, area_relation='Intersects', order_by=None, limit=None, offset=0, **keywords)`\n",
    "\n",
    "**Inquiry structure**  \n",
    "- is based on the documentation of the website `Copernicus Open Access Hub`, which you will find the description at: \n",
    "\n",
    "https://scihub.copernicus.eu/twiki/do/view/SciHubUserGuide/FullTextSearch?redirectedfrom=SciHubUserGuide.3FullTextSearch"
   ]
  },
  {
   "cell_type": "code",
   "execution_count": 16,
   "id": "385c227f",
   "metadata": {},
   "outputs": [],
   "source": [
    "products = api.query(geoPolygon,\n",
    "                     date=('20210501', '20210531'),\n",
    "                     platformname='Sentinel-2',\n",
    "                     cloudcoverpercentage=(0, 20))"
   ]
  },
  {
   "cell_type": "code",
   "execution_count": 17,
   "id": "b7109724",
   "metadata": {},
   "outputs": [
    {
     "data": {
      "text/html": [
       "<div>\n",
       "<style scoped>\n",
       "    .dataframe tbody tr th:only-of-type {\n",
       "        vertical-align: middle;\n",
       "    }\n",
       "\n",
       "    .dataframe tbody tr th {\n",
       "        vertical-align: top;\n",
       "    }\n",
       "\n",
       "    .dataframe thead th {\n",
       "        text-align: right;\n",
       "    }\n",
       "</style>\n",
       "<table border=\"1\" class=\"dataframe\">\n",
       "  <thead>\n",
       "    <tr style=\"text-align: right;\">\n",
       "      <th></th>\n",
       "      <th>title</th>\n",
       "      <th>link</th>\n",
       "      <th>link_alternative</th>\n",
       "      <th>link_icon</th>\n",
       "      <th>summary</th>\n",
       "      <th>ondemand</th>\n",
       "      <th>datatakesensingstart</th>\n",
       "      <th>generationdate</th>\n",
       "      <th>beginposition</th>\n",
       "      <th>endposition</th>\n",
       "      <th>...</th>\n",
       "      <th>uuid</th>\n",
       "      <th>illuminationazimuthangle</th>\n",
       "      <th>illuminationzenithangle</th>\n",
       "      <th>vegetationpercentage</th>\n",
       "      <th>notvegetatedpercentage</th>\n",
       "      <th>waterpercentage</th>\n",
       "      <th>unclassifiedpercentage</th>\n",
       "      <th>mediumprobacloudspercentage</th>\n",
       "      <th>highprobacloudspercentage</th>\n",
       "      <th>snowicepercentage</th>\n",
       "    </tr>\n",
       "  </thead>\n",
       "  <tbody>\n",
       "    <tr>\n",
       "      <th>8daec385-d70d-4070-9220-045acf1f54ad</th>\n",
       "      <td>S2A_MSIL1C_20210513T101021_N0300_R022_T33UXV_2...</td>\n",
       "      <td>https://scihub.copernicus.eu/dhus/odata/v1/Pro...</td>\n",
       "      <td>https://scihub.copernicus.eu/dhus/odata/v1/Pro...</td>\n",
       "      <td>https://scihub.copernicus.eu/dhus/odata/v1/Pro...</td>\n",
       "      <td>Date: 2021-05-13T10:10:21.024Z, Instrument: MS...</td>\n",
       "      <td>false</td>\n",
       "      <td>2021-05-13 10:10:21.024</td>\n",
       "      <td>2021-05-13 11:09:05</td>\n",
       "      <td>2021-05-13 10:10:21.024</td>\n",
       "      <td>2021-05-13 10:10:21.024</td>\n",
       "      <td>...</td>\n",
       "      <td>8daec385-d70d-4070-9220-045acf1f54ad</td>\n",
       "      <td>NaN</td>\n",
       "      <td>NaN</td>\n",
       "      <td>NaN</td>\n",
       "      <td>NaN</td>\n",
       "      <td>NaN</td>\n",
       "      <td>NaN</td>\n",
       "      <td>NaN</td>\n",
       "      <td>NaN</td>\n",
       "      <td>NaN</td>\n",
       "    </tr>\n",
       "    <tr>\n",
       "      <th>158df032-99c3-4e4a-a37c-0472c1a376e7</th>\n",
       "      <td>S2A_MSIL2A_20210513T101021_N0300_R022_T33UXV_2...</td>\n",
       "      <td>https://scihub.copernicus.eu/dhus/odata/v1/Pro...</td>\n",
       "      <td>https://scihub.copernicus.eu/dhus/odata/v1/Pro...</td>\n",
       "      <td>https://scihub.copernicus.eu/dhus/odata/v1/Pro...</td>\n",
       "      <td>Date: 2021-05-13T10:10:21.024Z, Instrument: MS...</td>\n",
       "      <td>false</td>\n",
       "      <td>NaT</td>\n",
       "      <td>2021-05-13 11:51:15</td>\n",
       "      <td>2021-05-13 10:10:21.024</td>\n",
       "      <td>2021-05-13 10:10:21.024</td>\n",
       "      <td>...</td>\n",
       "      <td>158df032-99c3-4e4a-a37c-0472c1a376e7</td>\n",
       "      <td>167.248403</td>\n",
       "      <td>35.655799</td>\n",
       "      <td>65.741432</td>\n",
       "      <td>15.159543</td>\n",
       "      <td>2.018085</td>\n",
       "      <td>1.607294</td>\n",
       "      <td>1.744338</td>\n",
       "      <td>6.133594</td>\n",
       "      <td>0.005213</td>\n",
       "    </tr>\n",
       "  </tbody>\n",
       "</table>\n",
       "<p>2 rows × 46 columns</p>\n",
       "</div>"
      ],
      "text/plain": [
       "                                                                                  title  \\\n",
       "8daec385-d70d-4070-9220-045acf1f54ad  S2A_MSIL1C_20210513T101021_N0300_R022_T33UXV_2...   \n",
       "158df032-99c3-4e4a-a37c-0472c1a376e7  S2A_MSIL2A_20210513T101021_N0300_R022_T33UXV_2...   \n",
       "\n",
       "                                                                                   link  \\\n",
       "8daec385-d70d-4070-9220-045acf1f54ad  https://scihub.copernicus.eu/dhus/odata/v1/Pro...   \n",
       "158df032-99c3-4e4a-a37c-0472c1a376e7  https://scihub.copernicus.eu/dhus/odata/v1/Pro...   \n",
       "\n",
       "                                                                       link_alternative  \\\n",
       "8daec385-d70d-4070-9220-045acf1f54ad  https://scihub.copernicus.eu/dhus/odata/v1/Pro...   \n",
       "158df032-99c3-4e4a-a37c-0472c1a376e7  https://scihub.copernicus.eu/dhus/odata/v1/Pro...   \n",
       "\n",
       "                                                                              link_icon  \\\n",
       "8daec385-d70d-4070-9220-045acf1f54ad  https://scihub.copernicus.eu/dhus/odata/v1/Pro...   \n",
       "158df032-99c3-4e4a-a37c-0472c1a376e7  https://scihub.copernicus.eu/dhus/odata/v1/Pro...   \n",
       "\n",
       "                                                                                summary  \\\n",
       "8daec385-d70d-4070-9220-045acf1f54ad  Date: 2021-05-13T10:10:21.024Z, Instrument: MS...   \n",
       "158df032-99c3-4e4a-a37c-0472c1a376e7  Date: 2021-05-13T10:10:21.024Z, Instrument: MS...   \n",
       "\n",
       "                                     ondemand    datatakesensingstart  \\\n",
       "8daec385-d70d-4070-9220-045acf1f54ad    false 2021-05-13 10:10:21.024   \n",
       "158df032-99c3-4e4a-a37c-0472c1a376e7    false                     NaT   \n",
       "\n",
       "                                          generationdate  \\\n",
       "8daec385-d70d-4070-9220-045acf1f54ad 2021-05-13 11:09:05   \n",
       "158df032-99c3-4e4a-a37c-0472c1a376e7 2021-05-13 11:51:15   \n",
       "\n",
       "                                               beginposition  \\\n",
       "8daec385-d70d-4070-9220-045acf1f54ad 2021-05-13 10:10:21.024   \n",
       "158df032-99c3-4e4a-a37c-0472c1a376e7 2021-05-13 10:10:21.024   \n",
       "\n",
       "                                                 endposition  ...  \\\n",
       "8daec385-d70d-4070-9220-045acf1f54ad 2021-05-13 10:10:21.024  ...   \n",
       "158df032-99c3-4e4a-a37c-0472c1a376e7 2021-05-13 10:10:21.024  ...   \n",
       "\n",
       "                                                                      uuid  \\\n",
       "8daec385-d70d-4070-9220-045acf1f54ad  8daec385-d70d-4070-9220-045acf1f54ad   \n",
       "158df032-99c3-4e4a-a37c-0472c1a376e7  158df032-99c3-4e4a-a37c-0472c1a376e7   \n",
       "\n",
       "                                     illuminationazimuthangle  \\\n",
       "8daec385-d70d-4070-9220-045acf1f54ad                      NaN   \n",
       "158df032-99c3-4e4a-a37c-0472c1a376e7               167.248403   \n",
       "\n",
       "                                     illuminationzenithangle  \\\n",
       "8daec385-d70d-4070-9220-045acf1f54ad                     NaN   \n",
       "158df032-99c3-4e4a-a37c-0472c1a376e7               35.655799   \n",
       "\n",
       "                                     vegetationpercentage  \\\n",
       "8daec385-d70d-4070-9220-045acf1f54ad                  NaN   \n",
       "158df032-99c3-4e4a-a37c-0472c1a376e7            65.741432   \n",
       "\n",
       "                                     notvegetatedpercentage waterpercentage  \\\n",
       "8daec385-d70d-4070-9220-045acf1f54ad                    NaN             NaN   \n",
       "158df032-99c3-4e4a-a37c-0472c1a376e7              15.159543        2.018085   \n",
       "\n",
       "                                     unclassifiedpercentage  \\\n",
       "8daec385-d70d-4070-9220-045acf1f54ad                    NaN   \n",
       "158df032-99c3-4e4a-a37c-0472c1a376e7               1.607294   \n",
       "\n",
       "                                     mediumprobacloudspercentage  \\\n",
       "8daec385-d70d-4070-9220-045acf1f54ad                         NaN   \n",
       "158df032-99c3-4e4a-a37c-0472c1a376e7                    1.744338   \n",
       "\n",
       "                                     highprobacloudspercentage  \\\n",
       "8daec385-d70d-4070-9220-045acf1f54ad                       NaN   \n",
       "158df032-99c3-4e4a-a37c-0472c1a376e7                  6.133594   \n",
       "\n",
       "                                     snowicepercentage  \n",
       "8daec385-d70d-4070-9220-045acf1f54ad               NaN  \n",
       "158df032-99c3-4e4a-a37c-0472c1a376e7          0.005213  \n",
       "\n",
       "[2 rows x 46 columns]"
      ]
     },
     "execution_count": 17,
     "metadata": {},
     "output_type": "execute_result"
    }
   ],
   "source": [
    "# conversion to pd.dataframe for easier data handling \n",
    "df = pd.DataFrame(products).T\n",
    "df"
   ]
  },
  {
   "cell_type": "markdown",
   "id": "fdaf3036",
   "metadata": {},
   "source": [
    "The choice of the smallest cloudy "
   ]
  },
  {
   "cell_type": "code",
   "execution_count": 18,
   "id": "42834e29",
   "metadata": {},
   "outputs": [],
   "source": [
    "idx = df.cloudcoverpercentage == min(df.cloudcoverpercentage)"
   ]
  },
  {
   "cell_type": "code",
   "execution_count": 19,
   "id": "71fb5b2f",
   "metadata": {},
   "outputs": [
    {
     "data": {
      "text/plain": [
       "'158df032-99c3-4e4a-a37c-0472c1a376e7'"
      ]
     },
     "execution_count": 19,
     "metadata": {},
     "output_type": "execute_result"
    }
   ],
   "source": [
    "uuid = df.uuid.loc[idx][0]\n",
    "uuid"
   ]
  },
  {
   "cell_type": "markdown",
   "id": "726edba7",
   "metadata": {},
   "source": [
    "Viewing selected columns "
   ]
  },
  {
   "cell_type": "code",
   "execution_count": 20,
   "id": "5e40dec4",
   "metadata": {},
   "outputs": [
    {
     "data": {
      "text/plain": [
       "158df032-99c3-4e4a-a37c-0472c1a376e7    S2A_MSIL2A_20210513T101021_N0300_R022_T33UXV_2...\n",
       "Name: title, dtype: object"
      ]
     },
     "execution_count": 20,
     "metadata": {},
     "output_type": "execute_result"
    }
   ],
   "source": [
    "df.title.loc[idx]"
   ]
  },
  {
   "cell_type": "code",
   "execution_count": 21,
   "id": "6d0e1636",
   "metadata": {},
   "outputs": [
    {
     "data": {
      "text/plain": [
       "8daec385-d70d-4070-9220-045acf1f54ad    https://scihub.copernicus.eu/dhus/odata/v1/Pro...\n",
       "158df032-99c3-4e4a-a37c-0472c1a376e7    https://scihub.copernicus.eu/dhus/odata/v1/Pro...\n",
       "Name: link, dtype: object"
      ]
     },
     "execution_count": 21,
     "metadata": {},
     "output_type": "execute_result"
    }
   ],
   "source": [
    "df.link"
   ]
  },
  {
   "cell_type": "code",
   "execution_count": 22,
   "id": "feb3638e",
   "metadata": {},
   "outputs": [
    {
     "data": {
      "text/plain": [
       "8daec385-d70d-4070-9220-045acf1f54ad       11.358\n",
       "158df032-99c3-4e4a-a37c-0472c1a376e7    11.088238\n",
       "Name: cloudcoverpercentage, dtype: object"
      ]
     },
     "execution_count": 22,
     "metadata": {},
     "output_type": "execute_result"
    }
   ],
   "source": [
    "df.cloudcoverpercentage"
   ]
  },
  {
   "cell_type": "code",
   "execution_count": 23,
   "id": "d1789832",
   "metadata": {},
   "outputs": [],
   "source": [
    "#api.download('be00f8a5-28a4-4bbb-bb17-e64ee5aadc5c','05imProc/rok2021/imgs/')"
   ]
  },
  {
   "cell_type": "code",
   "execution_count": 24,
   "id": "5c15b6c9",
   "metadata": {},
   "outputs": [
    {
     "name": "stdout",
     "output_type": "stream",
     "text": [
      "\u001b[0m\u001b[01;35mcameraman.tif\u001b[0m                   \u001b[01;35mlena_gray_512.tif\u001b[0m      \u001b[01;35msent.jpg\u001b[0m\r\n",
      "\u001b[01;35mL2A_20200412_T34UDA_cliped.tif\u001b[0m  \u001b[01;35mpeppers_color.jpg\u001b[0m      \u001b[01;34mswornegacie\u001b[0m/\r\n",
      "\u001b[01;35mlena_color_512.tif\u001b[0m              \u001b[01;34mS2L2A_20210326T33UXV\u001b[0m/\r\n"
     ]
    }
   ],
   "source": [
    "%ls 05imProc/rok2021/imgs/"
   ]
  }
 ],
 "metadata": {
  "hide_input": false,
  "kernelspec": {
   "display_name": "Python [conda env:lab2]",
   "language": "python",
   "name": "conda-env-lab2-py"
  },
  "language_info": {
   "codemirror_mode": {
    "name": "ipython",
    "version": 3
   },
   "file_extension": ".py",
   "mimetype": "text/x-python",
   "name": "python",
   "nbconvert_exporter": "python",
   "pygments_lexer": "ipython3",
   "version": "3.7.10"
  },
  "latex_envs": {
   "LaTeX_envs_menu_present": true,
   "autoclose": false,
   "autocomplete": true,
   "bibliofile": "biblio.bib",
   "cite_by": "apalike",
   "current_citInitial": 1,
   "eqLabelWithNumbers": true,
   "eqNumInitial": 1,
   "hotkeys": {
    "equation": "Ctrl-E",
    "itemize": "Ctrl-I"
   },
   "labels_anchors": false,
   "latex_user_defs": false,
   "report_style_numbering": false,
   "user_envs_cfg": false
  },
  "nbTranslate": {
   "displayLangs": [
    "*"
   ],
   "hotkey": "alt-t",
   "langInMainMenu": true,
   "sourceLang": "en",
   "targetLang": "fr",
   "useGoogleTranslate": true
  },
  "toc": {
   "base_numbering": 1,
   "nav_menu": {},
   "number_sections": true,
   "sideBar": true,
   "skip_h1_title": false,
   "title_cell": "Table of Contents",
   "title_sidebar": "Contents",
   "toc_cell": false,
   "toc_position": {
    "height": "calc(100% - 180px)",
    "left": "10px",
    "top": "150px",
    "width": "209.447px"
   },
   "toc_section_display": true,
   "toc_window_display": true
  }
 },
 "nbformat": 4,
 "nbformat_minor": 5
}
