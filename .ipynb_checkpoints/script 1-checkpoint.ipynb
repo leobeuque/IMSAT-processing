{
 "cells": [
  {
   "cell_type": "code",
   "execution_count": 3,
   "id": "robust-mobile",
   "metadata": {},
   "outputs": [],
   "source": [
    "#imports\n",
    "\n",
    "import numpy as np\n",
    "import pandas as pd\n",
    "from geopy.geocoders import Nominatim\n",
    "import geojson\n",
    "from shapely import geometry\n",
    "from sentinelsat import SentinelAPI\n",
    "from datetime import date\n",
    "import utm\n",
    "from ipyleaflet import Map, Marker, basemaps, basemap_to_tiles\n",
    "from ipyleaflet import Polygon as ipylPolygon"
   ]
  },
  {
   "cell_type": "code",
   "execution_count": 10,
   "id": "decent-option",
   "metadata": {},
   "outputs": [],
   "source": [
    "def commandline_simulator(switch, place_name, dir_address, date_range, cloudness, uuid = ''):\n",
    "#date_range = ('AAAAMMDD', 'AAAAMMDD') (ex: ('20210501', '20210531'))\n",
    "#place_name = (country,city)\n",
    "#cloudcoverpercentage=(0, cloudness)\n",
    "\n",
    "    address={'country':place_name[0],'city':place_name[1]}  # my cities\n",
    "    geolocator = Nominatim(user_agent=\"Pio\")\n",
    "    location = geolocator.geocode(address) #getting latitude and longitude (geographic coordinates)\n",
    "    \n",
    "    #converting to utm projection\n",
    "    \n",
    "    x,y, zone, zoneLetter = utm.from_latlon(location.latitude, location.longitude) \n",
    "    x = round(x,2)\n",
    "    y = round(y,2) #getting the first 2 decimals\n",
    "    (xoffset,yoffset) = (15000,15000)\n",
    "    \n",
    "    upl = (x-xoffset, y+yoffset) # upper left\n",
    "    upr = (x+xoffset, y+yoffset) # upper right\n",
    "    dwr = (x+xoffset, y-yoffset) # down right\n",
    "    dwl = (x-xoffset, y-yoffset) # down left\n",
    "    \n",
    "    utmCoord = [upl,upr,dwr,dwl]\n",
    "    \n",
    "    #converting back to geographic coordinates\n",
    "    \n",
    "    geoCoord = []\n",
    "    for p in utmCoord:\n",
    "        lat, lon = utm.to_latlon(*p,zone,zoneLetter)\n",
    "        geoCoord.append([round(lon,7),round(lat,7)])\n",
    "    \n",
    "    #creation of the polygon\n",
    "\n",
    "    geoPolygon = geometry.asPolygon(geoCoord)\n",
    "    geoPolygon.to_wkt()\n",
    "    \n",
    "    #getting the api    \n",
    "    \n",
    "    api = SentinelAPI('leo_beuque', 'Rbcekouya12', 'https://scihub.copernicus.eu/dhus')\n",
    "    products = api.query(geoPolygon,\n",
    "                     date=date_range,\n",
    "                     platformname='Sentinel-2',\n",
    "                     cloudcoverpercentage=(0, min(2*cloudness,100)))\n",
    "    # conversion to pd.dataframe\n",
    "    \n",
    "    df = pd.DataFrame(products).T\n",
    "    \n",
    "    #choosing the uuid with best fitting cloudness\n",
    "    \n",
    "    if uuid == '':\n",
    "        \n",
    "        best_cloudness_diff = min(abs(df.cloudcoverpercentage-cloudness))\n",
    "        idx = abs(df.cloudcoverpercentage-cloudness) == best_cloudness_diff #we get the image with cloudcoverpercentage nearest to cloudness\n",
    "        new_uuid = df.uuid.loc[idx][0]\n",
    "    else:\n",
    "        new_uuid = uuid\n",
    "    \n",
    "    if switch:\n",
    "        #download image\n",
    "        api.download(new_uuid, dir_address)\n",
    "        return\n",
    "    \n",
    "    else:\n",
    "        #print information \n",
    "        print ('title:', df.title.loc[idx][0])\n",
    "        print ('\\nlink:',df.link[idx][0])\n",
    "        print ('\\ncloudcoverpercentage:',df.cloudcoverpercentage[idx][0])\n",
    "        return\n",
    "    \n",
    "    "
   ]
  },
  {
   "cell_type": "code",
   "execution_count": 11,
   "id": "offshore-sender",
   "metadata": {},
   "outputs": [
    {
     "name": "stdout",
     "output_type": "stream",
     "text": [
      "[(437428.46, 5426728.41), (467428.46, 5426728.41), (467428.46, 5396728.41), (437428.46, 5396728.41)]\n",
      "title: S2B_MSIL1C_20210530T104619_N0300_R051_T31UDQ_20210530T115735\n",
      "\n",
      "link: https://scihub.copernicus.eu/dhus/odata/v1/Products('ebd8986f-9fd4-4502-816e-fd4d2988fb33')/$value\n",
      "\n",
      "cloudcoverpercentage: 10.0658\n"
     ]
    }
   ],
   "source": [
    "commandline_simulator(False,('France','Paris'),'downloaded_images',('20210501', '20210531'),10,'')"
   ]
  },
  {
   "cell_type": "code",
   "execution_count": null,
   "id": "romantic-leader",
   "metadata": {},
   "outputs": [],
   "source": []
  }
 ],
 "metadata": {
  "kernelspec": {
   "display_name": "Python [conda env:lab2]",
   "language": "python",
   "name": "conda-env-lab2-py"
  },
  "language_info": {
   "codemirror_mode": {
    "name": "ipython",
    "version": 3
   },
   "file_extension": ".py",
   "mimetype": "text/x-python",
   "name": "python",
   "nbconvert_exporter": "python",
   "pygments_lexer": "ipython3",
   "version": "3.7.10"
  }
 },
 "nbformat": 4,
 "nbformat_minor": 5
}
